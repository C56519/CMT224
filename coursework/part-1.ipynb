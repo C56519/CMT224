{
 "cells": [
  {
   "cell_type": "markdown",
   "id": "a1f89f09-3153-4e19-82b5-d168d382809b",
   "metadata": {},
   "source": [
    "# Part 1: Social Media Behaviour Data Analysis"
   ]
  },
  {
   "cell_type": "markdown",
   "id": "b7273255-ab87-4c85-951d-b03c7cad8023",
   "metadata": {
    "tags": []
   },
   "source": [
    "\n",
    "---"
   ]
  },
  {
   "cell_type": "markdown",
   "id": "e1ccb25c-1685-484a-bf08-c4bc9acd9cf3",
   "metadata": {
    "tags": []
   },
   "source": [
    "### Install Python packages (pip only)"
   ]
  },
  {
   "cell_type": "code",
   "execution_count": 1,
   "id": "f4e03f4e-9153-4f7d-ae6f-2f89909a1288",
   "metadata": {},
   "outputs": [
    {
     "name": "stdout",
     "output_type": "stream",
     "text": [
      "Requirement already satisfied: networkx in d:\\program files (x86)\\python\\python311\\lib\\site-packages (3.3)\n",
      "Note: you may need to restart the kernel to use updated packages.\n",
      "Requirement already satisfied: scipy in d:\\program files (x86)\\python\\python311\\lib\\site-packages (1.12.0)Note: you may need to restart the kernel to use updated packages.\n",
      "\n",
      "Requirement already satisfied: numpy<1.29.0,>=1.22.4 in d:\\program files (x86)\\python\\python311\\lib\\site-packages (from scipy) (1.26.4)\n"
     ]
    }
   ],
   "source": [
    "#e.g., %pip install some-package\n",
    "%pip install networkx\n",
    "%pip install scipy"
   ]
  },
  {
   "cell_type": "markdown",
   "id": "2b8621e2-e003-46b7-be7b-20a3f167559a",
   "metadata": {
    "tags": []
   },
   "source": [
    "### Import Python packages"
   ]
  },
  {
   "cell_type": "code",
   "execution_count": 2,
   "id": "d7c00360-c9d4-4781-b9e5-0181f1652bb8",
   "metadata": {},
   "outputs": [],
   "source": [
    "#e.g., import some-package\n",
    "import networkx as nx\n",
    "from scipy import stats"
   ]
  },
  {
   "cell_type": "markdown",
   "id": "ffa95b1b-31b8-44ad-9e9c-e2299b8cd2cf",
   "metadata": {},
   "source": [
    "---"
   ]
  },
  {
   "cell_type": "markdown",
   "id": "aa9a6985-71fb-4810-8dad-cd171aedf8a9",
   "metadata": {
    "tags": []
   },
   "source": [
    "### Task 1 of 1\n",
    "\n",
    "Examine the Graph Modelling Language (gml) files \"socialmedia_cmt224_reply_network.gml\" (reply network) and \"socialmedia_cmt224_social_network.gml\" (social network) which represent Twitter data between a sample of users over several days at the time of the Higgs boson particle discovery. Both networks are directed and share the same ids for nodes (anonymised Twitter users).  However, the shared user ids are contained within the \"label\" attribute in the .gml files, not the node \"id\" attribute of each individual .gml file.\n",
    "\n",
    "In the reply network, an edge from a node, 𝑢, to some other node, 𝑣, indicates that 𝑢 replied to a Tweet made by 𝑣 during the time period. Replies are also Tweets. Edges are weighted with the weight representing the number of times this happened over the time period.\n",
    "\n",
    "In the social network, an edge from node 𝑢 to 𝑣 indicates that 𝑢 follows 𝑣 on the social media platform.\n",
    "\n",
    "Using these networks, answer the following questions:"
   ]
  },
  {
   "cell_type": "markdown",
   "id": "2e51a390-c558-451c-8f1e-3009d9fdd525",
   "metadata": {
    "tags": []
   },
   "source": [
    "##### Q1. What fraction of users do not reply to or follow any other user, but have had others reply to their Tweets?"
   ]
  },
  {
   "cell_type": "code",
   "execution_count": 3,
   "id": "23d86c8c-c4fe-4fff-a741-84694bfc1b7e",
   "metadata": {},
   "outputs": [
    {
     "name": "stdout",
     "output_type": "stream",
     "text": [
      "The fraction of users do not reply to or follow any other user, but have had others reply to their Tweets: 0.91%\n"
     ]
    }
   ],
   "source": [
    "#CODE:\n",
    "# 1 Load dataset.\n",
    "rn = nx.read_gml(\"socialmedia_cmt224_reply_network.gml\")\n",
    "sn = nx.read_gml(\"socialmedia_cmt224_social_network.gml\")\n",
    "\n",
    "# 2 Find people who don't reply to people, don't follow people, but have other people reply to them.\n",
    "# That means replies and social networks are only in and out.\n",
    "r_order = list(rn.nodes())\n",
    "s_order = list(sn.nodes())\n",
    "only_replyed_by_others = []\n",
    "for node in r_order:\n",
    "    r_in_degree = rn.in_degree(node)\n",
    "    r_out_degree = rn.out_degree(node)\n",
    "    s_out_degree = sn.out_degree(node)\n",
    "    if r_in_degree > 0 and r_out_degree == 0 and s_out_degree == 0:\n",
    "        only_replyed_by_others.append(node)\n",
    "# Computing the fraction.\n",
    "fraction = len(only_replyed_by_others) / len(r_order)\n",
    "print(f\"The fraction of users do not reply to or follow any other user, but have had others reply to their Tweets: {fraction * 100:.2f}%\")"
   ]
  },
  {
   "cell_type": "raw",
   "id": "b6b3e307-f386-4417-9e9a-40a3de16a996",
   "metadata": {
    "vscode": {
     "languageId": "raw"
    }
   },
   "source": [
    "ANSWER:\n",
    "Traverse each node, calculate the out-degree and in-degree of that node in both networks. Because degree can reflect the connection between nodes. Mark those nodes whose in-degree is greater than zero only in the social network. and count the number and calculate the ratio. So the fraction of users do not reply to or follow any other user, but have had others reply to their Tweets is 0.91%."
   ]
  },
  {
   "cell_type": "markdown",
   "id": "e8297318-7065-41ac-84ee-20c67984090f",
   "metadata": {},
   "source": [
    "##### Q2. How does the topological structure of the reply network differ from the social network in terms of overall sparsity of edges between users and the number of connected groups of users?"
   ]
  },
  {
   "cell_type": "code",
   "execution_count": 4,
   "id": "4515b14a-2a60-42e6-8c0e-4fd1d952203d",
   "metadata": {},
   "outputs": [
    {
     "name": "stdout",
     "output_type": "stream",
     "text": [
      "The density of reply network: 4.080533494732535e-05\n",
      "The density of social network: 0.000992358613762732\n",
      "Number of strongly connected components in reply network: 16217\n",
      "Number of weakly connected components in reply network: 5920\n",
      "Number of strongly connected components in social network: 4648\n",
      "Number of weakly connected components in social network: 436\n"
     ]
    }
   ],
   "source": [
    "#CODE:\n",
    "# Computing the density of each network.\n",
    "density_reply = nx.density(rn)\n",
    "density_social = nx.density(sn)\n",
    "# Computing the number of strongly connected components and weakly connected components of each network.\n",
    "rn_number_scc_components = nx.number_strongly_connected_components(rn)\n",
    "rn_number_wcc_components = nx.number_weakly_connected_components(rn)\n",
    "sn_number_scc_components = nx.number_strongly_connected_components(sn)\n",
    "sn_number_wcc_components = nx.number_weakly_connected_components(sn)\n",
    "# Print the results.\n",
    "print(f\"The density of reply network: {density_reply}\")\n",
    "print(f\"The density of social network: {density_social}\")\n",
    "print(f\"Number of strongly connected components in reply network: {rn_number_scc_components}\")\n",
    "print(f\"Number of weakly connected components in reply network: {rn_number_wcc_components}\")\n",
    "print(f\"Number of strongly connected components in social network: {sn_number_scc_components}\")\n",
    "print(f\"Number of weakly connected components in social network: {sn_number_wcc_components}\")"
   ]
  },
  {
   "cell_type": "raw",
   "id": "052651f7-f191-4777-8bd0-8c8e29a93fb4",
   "metadata": {
    "vscode": {
     "languageId": "raw"
    }
   },
   "source": [
    "ANSWER:\n",
    "\n",
    "Calculate the edge density in the two networks separately, which measures the overall sparsity of the edges. Then calculate the number of strongly connected components and weakly connected components.\n",
    "\n",
    "The results indicated that the reply network (0.0000408) has a lower edge density than the social network (0.0009923), which suggests that the connections between nodes in the social network are denser, while the reply network is relatively sparser. It indicates that there is more user interaction in the reply network.\n",
    "\n",
    "The number of strongly connected components and weakly connected components are higher in reply networks (16217, 5920) than in social networks (4648, 436), showing that the user community in reply networks is more dispersed and may be denser within groups, but with weaker inter-group connections."
   ]
  },
  {
   "cell_type": "markdown",
   "id": "9b111ee8-5955-4fb0-a0c3-0901e89a1ae7",
   "metadata": {
    "tags": []
   },
   "source": [
    "##### Q3. Does the number of users a user follows in the social network correlate with the number of replies that they make?"
   ]
  },
  {
   "cell_type": "code",
   "execution_count": 5,
   "id": "e4139df4-2095-4241-8143-e9f14814d992",
   "metadata": {},
   "outputs": [
    {
     "name": "stdout",
     "output_type": "stream",
     "text": [
      "pearson r: 0.06, p: 2.310792620769861e-15\n"
     ]
    }
   ],
   "source": [
    "#CODE:\n",
    "# Get the out-degree of each node in the reply network and the social network.\n",
    "r_out_degree_dict = dict(rn.out_degree())\n",
    "s_out_degree_dict = dict(sn.out_degree())\n",
    "\n",
    "# Sort the nodes to make the nodes correspond to.\n",
    "# Sort social network nodes according to the order of nodes in the reply network\n",
    "s_out_degree_sequence_sorted = []\n",
    "for node in r_order:\n",
    "    if node in s_out_degree_dict:\n",
    "        s_out_degree_sequence_sorted.append(s_out_degree_dict[node])\n",
    "\n",
    "# Ensure that r_out_degree_sequence is also sorted by r_order.\n",
    "# Initialise the empty list to store the out degrees sorted by r_order.\n",
    "r_out_degree_sequence = []\n",
    "# Traverse each node in r_order.\n",
    "for node in r_order:\n",
    "    # Check if this node exists in the key of the r_out_degree_dict dictionary.\n",
    "    if node in r_out_degree_dict:\n",
    "        # If the node exists, add the node's out-degree to the list\n",
    "        r_out_degree_sequence.append(r_out_degree_dict[node])\n",
    "\n",
    "# Using pearson correlation coefficient.\n",
    "r, p = stats.pearsonr(r_out_degree_sequence, s_out_degree_sequence_sorted)\n",
    "print(f\"pearson r: {r:.2f}, p: {p}\")"
   ]
  },
  {
   "cell_type": "raw",
   "id": "843ea997-1710-437a-bee9-d87c6b4a87e7",
   "metadata": {
    "vscode": {
     "languageId": "raw"
    }
   },
   "source": [
    "ANSWER: \n",
    "Count the out-degree values of all nodes in both networks and use the Pearson's correlation coefficient to determine if there is a correlation, because pearson correlation coefficient is a commonly used approach to measure the degree of linear correlation between two variables.\n",
    "\n",
    "According to pearson coefficient r=0.06, p=2.310792620769861e-15. Since the r value is very low, it shows that there is not much linear correlation between them. But the p-value is very close to zero, which indicates that there is some relationship between them, and it is not a randomly generated result. So, the linear relationship between them is not obvious, but there may be some non-linear relationship."
   ]
  },
  {
   "cell_type": "markdown",
   "id": "0e2d2102-f4eb-4a4e-8289-c6b4f8a72e85",
   "metadata": {},
   "source": [
    "##### Q4. Is a user that replies to another user's Tweet multiple times more likely to follow that user in comparison to if they only replied once?"
   ]
  },
  {
   "cell_type": "code",
   "execution_count": 6,
   "id": "26dbd7ae-c713-4f54-9e07-d213a22cf46a",
   "metadata": {},
   "outputs": [
    {
     "name": "stdout",
     "output_type": "stream",
     "text": [
      "Probability of a user replying single time and following other: 0.84\n",
      "Probability of a user replying multiple times and following other: 0.88\n"
     ]
    }
   ],
   "source": [
    "#CODE:\n",
    "# Using the weighted network\n",
    "w_rn = nx.DiGraph(rn)\n",
    "\n",
    "# Initialising the counter.\n",
    "reply_count = {}\n",
    "follow_with_multireplies = 0\n",
    "sum_multireplies = 0\n",
    "follow_with_onereply = 0\n",
    "sum_onereply = 0\n",
    "\n",
    "# Analysing the relationship between replies and follows.\n",
    "for u, v, data in w_rn.edges(data=True):\n",
    "    weight = data.get('occurrences', 1)\n",
    "    # Check if u is following v.\n",
    "    if sn.has_edge(u, v):\n",
    "        # Reply multiple times.\n",
    "        if weight > 1:\n",
    "            follow_with_multireplies += 1\n",
    "        # Reply just single time.\n",
    "        else:\n",
    "            follow_with_onereply += 1\n",
    "    # Count all multiple replies.\n",
    "    if weight > 1:\n",
    "        sum_multireplies += 1\n",
    "    # Count all single replies.\n",
    "    else:\n",
    "        sum_onereply += 1\n",
    "        \n",
    "# Computing the probability.\n",
    "prob_single_reply = follow_with_onereply / sum_onereply if sum_onereply else 0\n",
    "prob_multi_replies = follow_with_multireplies / sum_multireplies if sum_multireplies else 0\n",
    "\n",
    "# Print the results.\n",
    "print(f\"Probability of a user replying single time and following other: {prob_single_reply:.2f}\")\n",
    "print(f\"Probability of a user replying multiple times and following other: {prob_multi_replies:.2f}\")"
   ]
  },
  {
   "cell_type": "raw",
   "id": "871ab384-9ac6-418e-b238-e8bc34354dfd",
   "metadata": {
    "vscode": {
     "languageId": "raw"
    }
   },
   "source": [
    "ANSWER: \n",
    "\n",
    "Count the number of all single replies and multiple replies and calculate the percentage of them that follow the person. Because this reflects to some extent how much users are likely to follow the person when replying to them.\n",
    "\n",
    "The results indicated that when users replied to the same person multiple times, they were more likely to follow them (88%) than when they replied only once (84%). This suggests that users are indeed more likely to follow those they have replied to multiple times."
   ]
  },
  {
   "cell_type": "markdown",
   "id": "758e8192-3634-4b37-842c-5930b09861fe",
   "metadata": {},
   "source": [
    "##### Q5. How many users have only mutual following connections (i.e., every user they follow also follows them) and only mutual reply connections with these same users?"
   ]
  },
  {
   "cell_type": "code",
   "execution_count": 7,
   "id": "fb84ca57-63bf-4519-be36-a514bfc2a6fe",
   "metadata": {},
   "outputs": [
    {
     "name": "stdout",
     "output_type": "stream",
     "text": [
      "The number of user have only mutual following connections and only mutual reply connections with these same users: 324\n"
     ]
    }
   ],
   "source": [
    "#CODE:\n",
    "def find_mutual_users(sn, rn):\n",
    "    # Initialise a list to store fully qualified users.\n",
    "    sn_rn_mutual_users = []\n",
    "    # Iterate all users in the social network.\n",
    "    for user in rn.nodes():\n",
    "        # Get the current user's followers and followed list.\n",
    "        follow_out = set(sn.successors(user))\n",
    "        follow_in = set(sn.predecessors(user))\n",
    "        # Mutual follow list.\n",
    "        mutual_follows = follow_out & follow_in\n",
    "        \n",
    "        # check the reply network.\n",
    "        if mutual_follows:\n",
    "            # Get the list of current users replying to each other.\n",
    "            reply_out = set(rn.successors(user))\n",
    "            reply_in = set(rn.predecessors(user))\n",
    "            mutual_reply = reply_out & reply_in\n",
    "            #  Ensure that the user only replies to people he follows mutually.\n",
    "            if mutual_reply == mutual_follows:\n",
    "                sn_rn_mutual_users.append(user)\n",
    "    return sn_rn_mutual_users\n",
    "mutual_users = find_mutual_users(sn, rn)\n",
    "print(f\"The number of user have only mutual following connections and only mutual reply connections with these same users: {len(mutual_users)}\")"
   ]
  },
  {
   "cell_type": "raw",
   "id": "04603234-769e-46b7-8025-01cf979418c6",
   "metadata": {
    "vscode": {
     "languageId": "raw"
    }
   },
   "source": [
    "ANSWER: \n",
    "For each user of a social network, first search all users that he follows and all users that follow him, because it is possible to find those people who follow each other with him. Then simultaneously find all users he has replied to and all users who have replied to him in the social network. Thus it would find those the user only replies to people he follows mutually and that these people also reply to him. So the result indicates that the number of such individuals is 324."
   ]
  }
 ],
 "metadata": {
  "kernelspec": {
   "display_name": "Python 3 (ipykernel)",
   "language": "python",
   "name": "python3"
  },
  "language_info": {
   "codemirror_mode": {
    "name": "ipython",
    "version": 3
   },
   "file_extension": ".py",
   "mimetype": "text/x-python",
   "name": "python",
   "nbconvert_exporter": "python",
   "pygments_lexer": "ipython3",
   "version": "3.11.5"
  }
 },
 "nbformat": 4,
 "nbformat_minor": 5
}
