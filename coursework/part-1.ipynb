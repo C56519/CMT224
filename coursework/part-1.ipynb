{
 "cells": [
  {
   "cell_type": "markdown",
   "id": "a1f89f09-3153-4e19-82b5-d168d382809b",
   "metadata": {},
   "source": [
    "# Part 1: Social Media Behaviour Data Analysis"
   ]
  },
  {
   "cell_type": "markdown",
   "id": "b7273255-ab87-4c85-951d-b03c7cad8023",
   "metadata": {
    "tags": []
   },
   "source": [
    "\n",
    "---"
   ]
  },
  {
   "cell_type": "markdown",
   "id": "e1ccb25c-1685-484a-bf08-c4bc9acd9cf3",
   "metadata": {
    "tags": []
   },
   "source": [
    "### Install Python packages (pip only)"
   ]
  },
  {
   "cell_type": "code",
   "execution_count": 67,
   "id": "f4e03f4e-9153-4f7d-ae6f-2f89909a1288",
   "metadata": {},
   "outputs": [
    {
     "name": "stdout",
     "output_type": "stream",
     "text": [
      "Requirement already satisfied: networkx in d:\\program files (x86)\\python\\python311\\lib\\site-packages (3.3)\n",
      "Note: you may need to restart the kernel to use updated packages.\n",
      "Requirement already satisfied: matplotlib in d:\\program files (x86)\\python\\python311\\lib\\site-packages (3.8.3)\n",
      "Requirement already satisfied: contourpy>=1.0.1 in d:\\program files (x86)\\python\\python311\\lib\\site-packages (from matplotlib) (1.2.0)\n",
      "Requirement already satisfied: cycler>=0.10 in d:\\program files (x86)\\python\\python311\\lib\\site-packages (from matplotlib) (0.12.1)\n",
      "Requirement already satisfied: fonttools>=4.22.0 in d:\\program files (x86)\\python\\python311\\lib\\site-packages (from matplotlib) (4.50.0)\n",
      "Requirement already satisfied: kiwisolver>=1.3.1 in d:\\program files (x86)\\python\\python311\\lib\\site-packages (from matplotlib) (1.4.5)\n",
      "Requirement already satisfied: numpy<2,>=1.21 in d:\\program files (x86)\\python\\python311\\lib\\site-packages (from matplotlib) (1.26.4)\n",
      "Requirement already satisfied: packaging>=20.0 in d:\\program files (x86)\\python\\python311\\lib\\site-packages (from matplotlib) (23.2)\n",
      "Requirement already satisfied: pillow>=8 in d:\\program files (x86)\\python\\python311\\lib\\site-packages (from matplotlib) (10.2.0)\n",
      "Requirement already satisfied: pyparsing>=2.3.1 in d:\\program files (x86)\\python\\python311\\lib\\site-packages (from matplotlib) (3.1.2)\n",
      "Requirement already satisfied: python-dateutil>=2.7 in d:\\program files (x86)\\python\\python311\\lib\\site-packages (from matplotlib) (2.9.0.post0)\n",
      "Requirement already satisfied: six>=1.5 in d:\\program files (x86)\\python\\python311\\lib\\site-packages (from python-dateutil>=2.7->matplotlib) (1.16.0)\n",
      "Note: you may need to restart the kernel to use updated packages.\n",
      "Requirement already satisfied: numpy in d:\\program files (x86)\\python\\python311\\lib\\site-packages (1.26.4)Note: you may need to restart the kernel to use updated packages.\n",
      "\n",
      "Note: you may need to restart the kernel to use updated packages.\n"
     ]
    },
    {
     "name": "stderr",
     "output_type": "stream",
     "text": [
      "ERROR: Could not find a version that satisfies the requirement operator (from versions: none)\n",
      "ERROR: No matching distribution found for operator\n"
     ]
    },
    {
     "name": "stdout",
     "output_type": "stream",
     "text": [
      "Note: you may need to restart the kernel to use updated packages.\n"
     ]
    },
    {
     "name": "stderr",
     "output_type": "stream",
     "text": [
      "ERROR: Could not find a version that satisfies the requirement json (from versions: none)\n",
      "ERROR: No matching distribution found for json\n"
     ]
    },
    {
     "name": "stdout",
     "output_type": "stream",
     "text": [
      "Requirement already satisfied: scipy in d:\\program files (x86)\\python\\python311\\lib\\site-packages (1.12.0)\n",
      "Requirement already satisfied: numpy<1.29.0,>=1.22.4 in d:\\program files (x86)\\python\\python311\\lib\\site-packages (from scipy) (1.26.4)\n",
      "Note: you may need to restart the kernel to use updated packages.\n"
     ]
    }
   ],
   "source": [
    "#e.g., %pip install some-package\n",
    "%pip install networkx\n",
    "%pip install matplotlib\n",
    "%pip install numpy\n",
    "%pip install operator\n",
    "%pip install json\n",
    "%pip install scipy"
   ]
  },
  {
   "cell_type": "markdown",
   "id": "2b8621e2-e003-46b7-be7b-20a3f167559a",
   "metadata": {
    "tags": []
   },
   "source": [
    "### Import Python packages"
   ]
  },
  {
   "cell_type": "code",
   "execution_count": 68,
   "id": "d7c00360-c9d4-4781-b9e5-0181f1652bb8",
   "metadata": {},
   "outputs": [],
   "source": [
    "#e.g., import some-package\n",
    "import networkx as nx\n",
    "import matplotlib.pyplot as plt\n",
    "import numpy as np\n",
    "from scipy import stats"
   ]
  },
  {
   "cell_type": "markdown",
   "id": "ffa95b1b-31b8-44ad-9e9c-e2299b8cd2cf",
   "metadata": {},
   "source": [
    "---"
   ]
  },
  {
   "cell_type": "markdown",
   "id": "aa9a6985-71fb-4810-8dad-cd171aedf8a9",
   "metadata": {
    "tags": []
   },
   "source": [
    "### Task 1 of 1\n",
    "\n",
    "Examine the Graph Modelling Language (gml) files \"socialmedia_cmt224_reply_network.gml\" (reply network) and \"socialmedia_cmt224_social_network.gml\" (social network) which represent Twitter data between a sample of users over several days at the time of the Higgs boson particle discovery. Both networks are directed and share the same ids for nodes (anonymised Twitter users).  However, the shared user ids are contained within the \"label\" attribute in the .gml files, not the node \"id\" attribute of each individual .gml file.\n",
    "\n",
    "In the reply network, an edge from a node, 𝑢, to some other node, 𝑣, indicates that 𝑢 replied to a Tweet made by 𝑣 during the time period. Replies are also Tweets. Edges are weighted with the weight representing the number of times this happened over the time period.\n",
    "\n",
    "In the social network, an edge from node 𝑢 to 𝑣 indicates that 𝑢 follows 𝑣 on the social media platform.\n",
    "\n",
    "Using these networks, answer the following questions:"
   ]
  },
  {
   "cell_type": "markdown",
   "id": "2e51a390-c558-451c-8f1e-3009d9fdd525",
   "metadata": {
    "tags": []
   },
   "source": [
    "##### Q1. What fraction of users do not reply to or follow any other user, but have had others reply to their Tweets?"
   ]
  },
  {
   "cell_type": "code",
   "execution_count": 69,
   "id": "23d86c8c-c4fe-4fff-a741-84694bfc1b7e",
   "metadata": {},
   "outputs": [
    {
     "name": "stdout",
     "output_type": "stream",
     "text": [
      "Number of nodes: 16737\n",
      "Number of edges: 11430\n",
      "Number of nodes: 16737\n",
      "Number of edges: 11430\n",
      "152\n"
     ]
    }
   ],
   "source": [
    "#CODE:\n",
    "# 1 加载数据集\n",
    "rn = nx.read_gml(\"socialmedia_cmt224_reply_network.gml\")\n",
    "sn = nx.read_gml(\"socialmedia_cmt224_social_network.gml\")\n",
    "\n",
    "# 回复网络节点数、边数\n",
    "print(f\"Number of nodes: {rn.number_of_nodes()}\")\n",
    "print(f\"Number of edges: {rn.number_of_edges()}\")\n",
    "# 社交网络节点数、边数\n",
    "print(f\"Number of nodes: {rn.number_of_nodes()}\")\n",
    "print(f\"Number of edges: {rn.number_of_edges()}\")\n",
    "\n",
    "# 2 找出那些不回复别人、不关注别人，但是有其他人回复他们\n",
    "# 也就是回复和社交网络中只进不出\n",
    "r_order = list(rn.nodes())\n",
    "s_order = list(sn.nodes())\n",
    "\n",
    "only_replyed_by_others = []\n",
    "for node in r_order:\n",
    "    r_in_degree = rn.in_degree(node)\n",
    "    r_out_degree = rn.out_degree(node)\n",
    "    s_out_degree = sn.out_degree(node)\n",
    "    if r_in_degree > 0 and r_out_degree == 0 and s_out_degree == 0:\n",
    "        only_replyed_by_others.append(node)\n",
    "\n",
    "print(len(only_replyed_by_others))"
   ]
  },
  {
   "cell_type": "raw",
   "id": "b6b3e307-f386-4417-9e9a-40a3de16a996",
   "metadata": {
    "vscode": {
     "languageId": "raw"
    }
   },
   "source": [
    "ANSWER: \n",
    "152"
   ]
  },
  {
   "cell_type": "markdown",
   "id": "e8297318-7065-41ac-84ee-20c67984090f",
   "metadata": {},
   "source": [
    "##### Q2. How does the topological structure of the reply network differ from the social network in terms of overall sparsity of edges between users and the number of connected groups of users?"
   ]
  },
  {
   "cell_type": "code",
   "execution_count": 70,
   "id": "4515b14a-2a60-42e6-8c0e-4fd1d952203d",
   "metadata": {},
   "outputs": [
    {
     "name": "stdout",
     "output_type": "stream",
     "text": [
      "The density of reply network: 4.080533494732535e-05\n",
      "The density of social network: 0.000992358613762732\n",
      "Number of strongly connected components in reply network: 16217\n",
      "Number of weakly connected components in social network: 5920\n",
      "Number of strongly connected components in reply network: 4648\n",
      "Number of weakly connected components in social network: 436\n"
     ]
    }
   ],
   "source": [
    "#CODE: \n",
    "density_reply = nx.density(rn)\n",
    "density_social = nx.density(sn)\n",
    "rn_number_scc_components = nx.number_strongly_connected_components(rn)\n",
    "rn_number_wcc_components = nx.number_weakly_connected_components(rn)\n",
    "sn_number_scc_components = nx.number_strongly_connected_components(sn)\n",
    "sn_number_wcc_components = nx.number_weakly_connected_components(sn)\n",
    "print(f\"The density of reply network: {density_reply}\")\n",
    "print(f\"The density of social network: {density_social}\")\n",
    "print(f\"Number of strongly connected components in reply network: {rn_number_scc_components}\")\n",
    "print(f\"Number of weakly connected components in social network: {rn_number_wcc_components}\")\n",
    "print(f\"Number of strongly connected components in reply network: {sn_number_scc_components}\")\n",
    "print(f\"Number of weakly connected components in social network: {sn_number_wcc_components}\")"
   ]
  },
  {
   "cell_type": "raw",
   "id": "052651f7-f191-4777-8bd0-8c8e29a93fb4",
   "metadata": {
    "vscode": {
     "languageId": "raw"
    }
   },
   "source": [
    "ANSWER: \n",
    "# 回复网络的特点是高度稀疏的边和大量的强连通分量，反映了用户间的交互更加选择性和专一性。这可能是因为用户倾向于回复他们感兴趣的特定话题或个人，导致了许多相对独立的交流群体的形成。\n",
    "# 社交网络展现了较低的稀疏性和较少的连通分量，表明用户之间的“关注”行为形成了一个更为广泛和紧密的网络。这种结构可能是因为关注行为更简单、更普遍，且不需要双向互动，从而使得整个网络中的用户更加连通。"
   ]
  },
  {
   "cell_type": "markdown",
   "id": "9b111ee8-5955-4fb0-a0c3-0901e89a1ae7",
   "metadata": {
    "tags": []
   },
   "source": [
    "##### Q3. Does the number of users a user follows in the social network correlate with the number of replies that they make?"
   ]
  },
  {
   "cell_type": "code",
   "execution_count": 71,
   "id": "e4139df4-2095-4241-8143-e9f14814d992",
   "metadata": {},
   "outputs": [
    {
     "name": "stdout",
     "output_type": "stream",
     "text": [
      "pearson r: 0.01, 0.17\n"
     ]
    }
   ],
   "source": [
    "#CODE:\n",
    "# 计算回复、关注网络中每个节点的出度，然后分析两个列表的联系\n",
    "# 提取社交网络中的出度（关注数）和回复网络中的出度（回复数）\n",
    "r_out_degree_sequence = list(dict(rn.out_degree(r_order)).values())\n",
    "s_out_degree_sequence = list(dict(sn.out_degree(s_order)).values())\n",
    "r, p = stats.pearsonr(r_out_degree_sequence, s_out_degree_sequence)\n",
    "print(f\"pearson r: {r:.2f}, {p:.2f}\")"
   ]
  },
  {
   "cell_type": "raw",
   "id": "843ea997-1710-437a-bee9-d87c6b4a87e7",
   "metadata": {
    "vscode": {
     "languageId": "raw"
    }
   },
   "source": [
    "ANSWER: \n",
    "根据皮尔逊系数可以得出结论，社交网络中一个用户关注的用户数量与他们进行回复的数量之间没有显著的相关性。\n",
    "这可能表明，尽管某些用户在社交网络上拥有广泛的关注网络，但这并不直接转化为他们在网络上的互动活动（如回复）的增加。\n",
    "用户的回复行为可能更多地受到其他因素的影响，例如他们对话题的兴趣、个人互动偏好或是特定事件的影响。"
   ]
  },
  {
   "cell_type": "markdown",
   "id": "0e2d2102-f4eb-4a4e-8289-c6b4f8a72e85",
   "metadata": {},
   "source": [
    "##### Q4. Is a user that replies to another user's Tweet multiple times more likely to follow that user in comparison to if they only replied once?"
   ]
  },
  {
   "cell_type": "code",
   "execution_count": 72,
   "id": "26dbd7ae-c713-4f54-9e07-d213a22cf46a",
   "metadata": {},
   "outputs": [],
   "source": [
    "#CODE:\n",
    "for user in r_out_degree_sequence:\n",
    "    \n",
    "\n"
   ]
  },
  {
   "cell_type": "raw",
   "id": "871ab384-9ac6-418e-b238-e8bc34354dfd",
   "metadata": {},
   "source": [
    "ANSWER: \n"
   ]
  },
  {
   "cell_type": "markdown",
   "id": "758e8192-3634-4b37-842c-5930b09861fe",
   "metadata": {},
   "source": [
    "##### Q5. How many users have only mutual following connections (i.e., every user they follow also follows them) and only mutual reply connections with these same users?"
   ]
  },
  {
   "cell_type": "code",
   "execution_count": 73,
   "id": "fb84ca57-63bf-4519-be36-a514bfc2a6fe",
   "metadata": {},
   "outputs": [],
   "source": [
    "#CODE:\n",
    "\n"
   ]
  },
  {
   "cell_type": "raw",
   "id": "04603234-769e-46b7-8025-01cf979418c6",
   "metadata": {},
   "source": [
    "ANSWER: \n"
   ]
  }
 ],
 "metadata": {
  "kernelspec": {
   "display_name": "Python 3 (ipykernel)",
   "language": "python",
   "name": "python3"
  },
  "language_info": {
   "codemirror_mode": {
    "name": "ipython",
    "version": 3
   },
   "file_extension": ".py",
   "mimetype": "text/x-python",
   "name": "python",
   "nbconvert_exporter": "python",
   "pygments_lexer": "ipython3",
   "version": "3.11.5"
  }
 },
 "nbformat": 4,
 "nbformat_minor": 5
}
