{
 "cells": [
  {
   "cell_type": "markdown",
   "id": "ff2d0703-1cf5-442a-9730-5b054a09ec32",
   "metadata": {},
   "source": [
    "# Part 2: Email Behaviour Data Analysis"
   ]
  },
  {
   "cell_type": "markdown",
   "id": "94d3b813-a930-4d20-949d-557a59bd8724",
   "metadata": {
    "tags": []
   },
   "source": [
    "---"
   ]
  },
  {
   "cell_type": "markdown",
   "id": "d9389eca-4427-450f-b86d-2954730560af",
   "metadata": {
    "tags": []
   },
   "source": [
    "### Install Python packages (pip only)"
   ]
  },
  {
   "cell_type": "code",
   "execution_count": 64,
   "id": "561e7d2b-d506-4b97-9e0a-4643d5ef91d0",
   "metadata": {},
   "outputs": [
    {
     "name": "stdout",
     "output_type": "stream",
     "text": [
      "Requirement already satisfied: networkx in d:\\program files (x86)\\python\\python311\\lib\\site-packages (3.3)\n",
      "Note: you may need to restart the kernel to use updated packages.\n",
      "Requirement already satisfied: matplotlib in d:\\program files (x86)\\python\\python311\\lib\\site-packages (3.8.3)\n",
      "Requirement already satisfied: contourpy>=1.0.1 in d:\\program files (x86)\\python\\python311\\lib\\site-packages (from matplotlib) (1.2.0)\n",
      "Requirement already satisfied: cycler>=0.10 in d:\\program files (x86)\\python\\python311\\lib\\site-packages (from matplotlib) (0.12.1)\n",
      "Requirement already satisfied: fonttools>=4.22.0 in d:\\program files (x86)\\python\\python311\\lib\\site-packages (from matplotlib) (4.50.0)\n",
      "Requirement already satisfied: kiwisolver>=1.3.1 in d:\\program files (x86)\\python\\python311\\lib\\site-packages (from matplotlib) (1.4.5)\n",
      "Requirement already satisfied: numpy<2,>=1.21 in d:\\program files (x86)\\python\\python311\\lib\\site-packages (from matplotlib) (1.26.4)\n",
      "Requirement already satisfied: packaging>=20.0 in d:\\program files (x86)\\python\\python311\\lib\\site-packages (from matplotlib) (23.2)\n",
      "Requirement already satisfied: pillow>=8 in d:\\program files (x86)\\python\\python311\\lib\\site-packages (from matplotlib) (10.2.0)\n",
      "Requirement already satisfied: pyparsing>=2.3.1 in d:\\program files (x86)\\python\\python311\\lib\\site-packages (from matplotlib) (3.1.2)\n",
      "Requirement already satisfied: python-dateutil>=2.7 in d:\\program files (x86)\\python\\python311\\lib\\site-packages (from matplotlib) (2.9.0.post0)\n",
      "Requirement already satisfied: six>=1.5 in d:\\program files (x86)\\python\\python311\\lib\\site-packages (from python-dateutil>=2.7->matplotlib) (1.16.0)\n",
      "Note: you may need to restart the kernel to use updated packages.\n",
      "Requirement already satisfied: numpy in d:\\program files (x86)\\python\\python311\\lib\\site-packages (1.26.4)\n",
      "Note: you may need to restart the kernel to use updated packages.\n",
      "Note: you may need to restart the kernel to use updated packages.\n"
     ]
    },
    {
     "name": "stderr",
     "output_type": "stream",
     "text": [
      "ERROR: Could not find a version that satisfies the requirement json (from versions: none)\n",
      "ERROR: No matching distribution found for json\n"
     ]
    }
   ],
   "source": [
    "#e.g., %pip install some-package\n",
    "%pip install networkx\n",
    "%pip install matplotlib\n",
    "%pip install numpy\n",
    "%pip install json"
   ]
  },
  {
   "cell_type": "markdown",
   "id": "661a426f-00b3-4eab-b8ff-3897a5bf2e87",
   "metadata": {},
   "source": [
    "### Import Python packages"
   ]
  },
  {
   "cell_type": "code",
   "execution_count": 65,
   "id": "9fde3e57-85f4-46f2-9999-96434563cc69",
   "metadata": {},
   "outputs": [],
   "source": [
    "#e.g., import some-package\n",
    "import networkx as nx\n",
    "import matplotlib.pyplot as plt\n",
    "import numpy as np\n",
    "import json"
   ]
  },
  {
   "cell_type": "markdown",
   "id": "31f7e832-7044-47ce-84b0-610a465e6b1d",
   "metadata": {},
   "source": [
    "---"
   ]
  },
  {
   "cell_type": "markdown",
   "id": "6be69931-f66d-490c-8f4f-3d8016c72c13",
   "metadata": {
    "tags": []
   },
   "source": [
    "### Task 1 of 1 \n",
    "\n",
    "Examine the file \"emails_cmt224.edgelist\" which represents email behaviour at an organisation. Each line contains two numbers, 𝑢 and 𝑣, separated by a blank space. Consider each number as an identifier for an individual in an organisation, with the space on each line representing that the individual, 𝑢, sent at least one email to the another individual, 𝑣, at some point. Model the data using an appropriate, directed network representation and answer the following questions:"
   ]
  },
  {
   "cell_type": "markdown",
   "id": "e2fa5455-293e-4b4b-b084-71d0cb31d40b",
   "metadata": {},
   "source": [
    "##### Q1. Do the majority of individuals have a higher or lower ratio of mutual connections than average in the network?"
   ]
  },
  {
   "cell_type": "code",
   "execution_count": 66,
   "id": "84bbaf04-0d29-457c-9c5c-83da2ce1a57a",
   "metadata": {},
   "outputs": [
    {
     "name": "stdout",
     "output_type": "stream",
     "text": [
      "Mean reciprocity: 0.52\n",
      "The number of nodes' reciprocity higher than the average is 462, the ratio is: 0.65\n",
      "The number of nodes' reciprocity lower than the average is 244, the ratio is: 0.35\n"
     ]
    }
   ],
   "source": [
    "#CODE:\n",
    "# Load data.\n",
    "file_path = \"emails_cmt224.edgelist\"\n",
    "eg = nx.read_edgelist(file_path, create_using=nx.DiGraph())\n",
    "# Computing the reciprocity of each node.\n",
    "reciprocity_per_node = nx.reciprocity(eg, eg.nodes())\n",
    "# Creat a list.\n",
    "reciprocity_values = list(reciprocity_per_node.values())\n",
    "# Calculate the average reciprocity of all nodes.\n",
    "mean_reciprocity = np.mean(reciprocity_values)\n",
    "print(f\"Mean reciprocity: {mean_reciprocity:.2f}\")\n",
    "# Compare the reciprocity of all nodes with the average, and count the number of values less than the average, the number of values greater than the average.\n",
    "higher_count = 0\n",
    "lower_count = 0\n",
    "total_num = eg.number_of_nodes()\n",
    "for node in reciprocity_values:\n",
    "    if node > mean_reciprocity: higher_count += 1\n",
    "    elif node < mean_reciprocity: lower_count += 1\n",
    "# Calculate of the ratio of both.\n",
    "higher_rate = higher_count / total_num\n",
    "lower_rate = lower_count / total_num\n",
    "print(f\"The number of nodes' reciprocity higher than the average is {higher_count}, the ratio is: {higher_rate:.2f}\")\n",
    "print(f\"The number of nodes' reciprocity lower than the average is {lower_count}, the ratio is: {lower_rate:.2f}\")"
   ]
  },
  {
   "cell_type": "raw",
   "id": "555d8e2e-b511-44d9-9e66-abbcfd72e813",
   "metadata": {
    "vscode": {
     "languageId": "raw"
    }
   },
   "source": [
    "ANSWER:\n",
    "\n",
    "Computing the reciprocity of all nodes in the network and counting the number above and below the average to determine the reciprocity status of the majority of individuals, because reflecting ratios through numbers is a commonly used statistical method.\n",
    "\n",
    "In this network, the average mutual connection ratio is 0.52, with 65% individuals with above average value and 35% individuals with below average value.\n",
    "\n",
    "So, the majority of individuals in this network (about 65%) are higher than the average mutual connection ratio."
   ]
  },
  {
   "cell_type": "markdown",
   "id": "a88f1282-c982-44a1-943b-a1e58d6cfd5f",
   "metadata": {
    "tags": []
   },
   "source": [
    "##### Q2. Using the largest, strongly connected component (where at least one path exists between each individual and all others). Could the connectivity of the component be suggested to be reflective of a small world phenomenon in comparison to the typical connectivity of 10 comparative random networks?"
   ]
  },
  {
   "cell_type": "code",
   "execution_count": 67,
   "id": "775143b3-138d-4851-b14f-8119c2b18a9d",
   "metadata": {
    "tags": []
   },
   "outputs": [
    {
     "name": "stdout",
     "output_type": "stream",
     "text": [
      "Average shortest path length in eg's largest strongly connected component: 2.56\n",
      "Average clustering coefficient in eg's largest strongly connected component: 0.39\n",
      "The mean of average shortest path length in 10 random world: 2.32\n",
      "The mean of average clustering in 10 random world: 0.04\n"
     ]
    }
   ],
   "source": [
    "#CODE:\n",
    "# Find the most strongly connected component.\n",
    "strongly_connected_components = nx.strongly_connected_components(eg)\n",
    "# Sort by number of nodes.\n",
    "strongly_connected_components_sorted_by_number_of_nodes = sorted(\n",
    "    strongly_connected_components, \n",
    "    key=len,\n",
    "    reverse=True\n",
    ")\n",
    "# Take the strongly connected component with the most nodes.\n",
    "list_of_nodes_in_largest_strongly_connected_component = strongly_connected_components_sorted_by_number_of_nodes[0]\n",
    "# Creating subgraphs.\n",
    "LSCC = eg.subgraph(list_of_nodes_in_largest_strongly_connected_component).copy()\n",
    "# Calculate the shortest path length and the average clustering coefficient of the subgraphs.\n",
    "eg_sub_average_shortest_path_length = nx.average_shortest_path_length(LSCC)\n",
    "eg_sub_average_clustering = nx.average_clustering(LSCC)\n",
    "print(f\"Average shortest path length in eg's largest strongly connected component: {eg_sub_average_shortest_path_length:.2f}\")\n",
    "print(f\"Average clustering coefficient in eg's largest strongly connected component: {eg_sub_average_clustering:.2f}\")\n",
    "\n",
    "# Generate 10 random networks with the number of nodes and edges equal to the subgraphs.\n",
    "random_average_shortest_path_length = []\n",
    "random_average_clustering = []\n",
    "for i in range(10):\n",
    "    # Take the largest strongly connected component and generate a subgraph.\n",
    "    R = nx.gnm_random_graph(LSCC.number_of_nodes(), LSCC.number_of_edges(), directed=True)\n",
    "    R_LSCC_nodes = sorted(nx.strongly_connected_components(R), key=len, reverse=True)[0]\n",
    "    R_LSCC = R.subgraph(R_LSCC_nodes).copy()\n",
    "    # Calculate the shortest path length and the average clustering coefficient.\n",
    "    random_average_shortest_path_length.append(nx.average_shortest_path_length(R_LSCC))\n",
    "    random_average_clustering.append(nx.average_clustering(R_LSCC))\n",
    "    \n",
    "# Calculate the average of 10 random network results.\n",
    "mean_random_average_shortest_path_length = np.mean(random_average_shortest_path_length)\n",
    "mean_random_average_clustering = np.mean(random_average_clustering)\n",
    "print(f\"The mean of average shortest path length in 10 random world: {mean_random_average_shortest_path_length:.2f}\")\n",
    "print(f\"The mean of average clustering in 10 random world: {mean_random_average_clustering:.2f}\")"
   ]
  },
  {
   "cell_type": "raw",
   "id": "1aac5f8e-2fa2-485c-b163-621f73a91a58",
   "metadata": {
    "vscode": {
     "languageId": "raw"
    }
   },
   "source": [
    "ANSWER: \n",
    "The results compare the shortest path length (2.56) and the average clustering coefficient (0.39) of the subgraphs, with 10 random networks (2.32, 0.04) to determine whether the subgraphs reflect the small world phenomenon. Because these two indices can reflect the characteristics of small-world phenomenon well. The small world networks usually have shorter average path lengths and higher clustering coefficients. Although the subgraph has a slightly higher path length than the random network, but the clustering coefficient is significantly higher. This network structure has moderate global path lengths but tight local structure. Therefore, it can be assumed that this strongly connected component reflects the small world phenomenon."
   ]
  },
  {
   "cell_type": "markdown",
   "id": "a1ea162f-553b-402d-b437-99b95cc9821a",
   "metadata": {},
   "source": [
    "##### Q3. Are occurrences of induced, connected subgraphs of 3 individuals (triads) with only mutual connections more abundant in the largest, strongly connected component than those with a mixture of asymmetric and mutual connections? What does this suggest about how mutual connections are distributed in the component?"
   ]
  },
  {
   "cell_type": "code",
   "execution_count": 68,
   "id": "f93ce721-0797-4803-b06b-d3e0a0a04027",
   "metadata": {},
   "outputs": [
    {
     "name": "stdout",
     "output_type": "stream",
     "text": [
      "{'021D': 31641, '021U': 15065, '021C': 25088, '111D': 62379, '111U': 96113, '030T': 2609, '030C': 292, '201': 107247, '120D': 3549, '120U': 4096, '120C': 3954, '210': 17333, '300': 12982}\n",
      "The rate of only mutual: 0.03\n",
      "The number of only mutual: 12982\n",
      "The rate of those with a mixture of asymmetric and mutual connections: 0.97\n",
      "The number of those with a mixture of asymmetric and mutual connections: 369366\n"
     ]
    }
   ],
   "source": [
    "#CODE:\n",
    "def calculate_normalised_connected_triadic_census(H):\n",
    "    # Find all triples and return a dictionary.\n",
    "    tc = nx.triadic_census(H)\n",
    "    tc_rate = {}\n",
    "    # Delete non-connected triples.\n",
    "    del tc[\"003\"]\n",
    "    del tc[\"012\"]\n",
    "    del tc[\"102\"]\n",
    "    # model the data so that it sums to 1, in order to see the ratio.\n",
    "    factor = 1.0 / sum(tc.values())\n",
    "    for k in tc:\n",
    "        tc_rate[k] = round(tc[k] * factor, 2)\n",
    "    return tc, tc_rate\n",
    "\n",
    "def triads_compared(tc, tc_rate):\n",
    "    # Calculate the number of triples containing only mutually connections (\"300\").\n",
    "    only_mutual_rate = tc_rate.get(\"300\")\n",
    "    only_mutual_num = tc.get(\"300\")\n",
    "    # Calculate the number of triples containing mixed connections.\n",
    "    mixture_rate = sum(value for key, value in tc_rate.items() if key != \"300\")\n",
    "    mixture_num = sum(value for key, value in tc.items() if key != \"300\")\n",
    "    print(f\"The rate of only mutual: {only_mutual_rate:2}\")\n",
    "    print(f\"The number of only mutual: {only_mutual_num:2}\")\n",
    "    print(f\"The rate of those with a mixture of asymmetric and mutual connections: {round(mixture_rate, 2)}\")\n",
    "    print(f\"The number of those with a mixture of asymmetric and mutual connections: {round(mixture_num, 2)}\")\n",
    "\n",
    "# Run the function to compute the triple census of LSCC.\n",
    "triadic_census, triadic_census_rate = calculate_normalised_connected_triadic_census(LSCC)\n",
    "# Output triple census results.\n",
    "print(triadic_census)\n",
    "# Compare results.\n",
    "triads_compared(triadic_census, triadic_census_rate)"
   ]
  },
  {
   "cell_type": "raw",
   "id": "660fe970-1267-4d50-b34e-392fa6d14b6a",
   "metadata": {
    "vscode": {
     "languageId": "raw"
    }
   },
   "source": [
    "ANSWER:\n",
    "The results show that the number of triads containing only mutual connections is 12,982 (3%), while the number of triads containing both asymmetric and mutual connections is 369,366 (97%). This suggests that triples with mixed connections are much more common in this network component than triples with only mutual connections. This reflects to some extent that in the strongly connected component, where asymmetric connections are more prevalent than mutual connections, this network is more likely to be structured with hierarchical or functional divisions, meaning that some nodes may act mainly as information delivery points instead of equal participants in the interactions."
   ]
  },
  {
   "cell_type": "markdown",
   "id": "00cddf41-8d3e-4177-8aba-c7a322a8ff58",
   "metadata": {},
   "source": [
    "---\n",
    "### Task 2 of 2\n",
    "\n",
    "Examine the JSON file \"emails_cmt224_departments.json\" (departments file). Keys in the departments file represent individuals using the same ids as in the \"emails_cmt224.edgelist\" file in Part 2, Task 1 and the values represent a department id that the individual can be attributed to. Using the contents of the departments file in combination with the network in Part 2, Task 1, answer the following questions:"
   ]
  },
  {
   "cell_type": "markdown",
   "id": "754c1e34-252d-4786-9b57-0dfe9e76ec5c",
   "metadata": {},
   "source": [
    "##### Q1. Using the connections that individuals have in the network, are they more likely to mix with others in their department or those with a similar number of outward connections?"
   ]
  },
  {
   "cell_type": "code",
   "execution_count": 69,
   "id": "52119076-b214-41ed-a0b0-11a3d6e0e2a7",
   "metadata": {},
   "outputs": [
    {
     "name": "stdout",
     "output_type": "stream",
     "text": [
      "Number of connections to the same sector: 4471\n",
      "Number of connections of people with similar number of connections: 171\n"
     ]
    }
   ],
   "source": [
    "#CODE:\n",
    "# Load the data\n",
    "with open(\"emails_cmt224_departments.json\") as json_file:\n",
    "    departments = json.load(json_file)\n",
    "# Data initialisation\n",
    "department_connections = 0\n",
    "similar_connections = 0\n",
    "\n",
    "# Calculate the number of connections (degrees).\n",
    "degrees = dict(eg.degree())\n",
    "# Traverse each node.\n",
    "for node in eg.nodes():\n",
    "    this_department = departments[node]\n",
    "    this_degee = degrees[node]\n",
    "    # Analyse whether its connected nodes belong to the same sector or have a similar number of connections.\n",
    "    for other in eg.neighbors(node):\n",
    "        if departments[other] == this_department: department_connections += 1\n",
    "        # Similarity is taken as 1.\n",
    "        if abs(degrees[other] - this_degee) == 1: similar_connections += 1\n",
    "print(f\"Number of connections to the same department: {department_connections}\")\n",
    "print(f\"Number of connections of people with similar number of connections: {similar_connections}\")"
   ]
  },
  {
   "cell_type": "raw",
   "id": "97f2b5cb-9d52-4787-8e8b-ef9aa29d1c8e",
   "metadata": {
    "vscode": {
     "languageId": "raw"
    }
   },
   "source": [
    "ANSWER: \n",
    "individuals in the network are more likely to connect with people in the same department (4471 times) and less likely to connect with people with similar number of connections (171 times). This shows that individuals tend to interact with people within the same department in their social choices, rather than based on similarity in the number of connections."
   ]
  },
  {
   "cell_type": "markdown",
   "id": "3a83c73f-b498-49c4-abfb-46b52e34427b",
   "metadata": {
    "tags": []
   },
   "source": [
    "##### Q2. Are all departments with 15 or more members more tightly connected amongst themselves in comparison to all individuals across the overall network irrespective of their department?  Where in this context, 'more tightly connected' is defined as having more mutual AND clustered connections. In addition to answering the overall question as yes or no, provide a list of departments this is true for (if any) and not true for (if any)."
   ]
  },
  {
   "cell_type": "code",
   "execution_count": 70,
   "id": "70af8529-4fce-4910-a4b0-449862f1b96a",
   "metadata": {},
   "outputs": [
    {
     "name": "stdout",
     "output_type": "stream",
     "text": [
      "Average clustering coefficients of large departments: 0.51\n",
      "Average reciprocity of large departments: 0.51\n",
      "Average clustering coefficient of the totall graphs: 0.37\n",
      "Average reciprocity of the total graph: 0.52\n",
      "More tightly connected departments: ['14', '9', '17', '11', '10', '36', '8', '16', '13', '19']\n",
      "Less tightly connected departments: ['1', '21', '7', '4', '22', '15', '6', '0', '23']\n"
     ]
    }
   ],
   "source": [
    "#CODE:\n",
    "# Compute the reciprocity of the graph.\n",
    "def computing_reciprocity(G):\n",
    "    reciprocity_per_node = nx.reciprocity(G, G.nodes())\n",
    "    reciprocity_values = []\n",
    "    for value in reciprocity_per_node.values():\n",
    "        if value is not None: reciprocity_values.append(float(value))\n",
    "        else: reciprocity_values.append(0)\n",
    "    mean_reciprocity = np.mean(reciprocity_values)\n",
    "    return mean_reciprocity\n",
    "\n",
    "# Create subgraphs\n",
    "def create_subgraph(dep, dep_dict, G):\n",
    "    # Select all members belonging to the department from the department dictionary.\n",
    "    target_member_list = [member for member, m_dep in dep_dict.items() if m_dep == dep]\n",
    "    # Select the nodes of these members from the graph G to create subgraphs.\n",
    "    subgraph = G.subgraph(target_member_list).copy()\n",
    "    return subgraph\n",
    "\n",
    "# Find all departments with greater than or equal to 15 members, create a list of departments that qualify, and create a list of departments that do not qualify.\n",
    "department_sizes = {}\n",
    "# Calculate the number of members in each department.\n",
    "for member, department in departments.items():\n",
    "    if department not in department_sizes:\n",
    "        department_sizes[department] = 0\n",
    "    department_sizes[department] += 1\n",
    "# Split large and small departments.\n",
    "large_departments = {}\n",
    "small_departments = {}\n",
    "for dep, counts in department_sizes.items():\n",
    "    if counts >= 15: large_departments[dep] = counts\n",
    "    else: small_departments[dep] = counts\n",
    "\n",
    "# Calculate the reciprocity and clustering coefficient for the overall network.\n",
    "total_clustering = nx.average_clustering(eg)\n",
    "total_mean_reciprocity = computing_reciprocity(eg)\n",
    "# Initialise the clustering coefficients and average reciprocity for all large departments.\n",
    "large_dep_mean_clustering = []\n",
    "large_dep_mean_reciprocity = []\n",
    "# More tightly connected departments list.\n",
    "more_tightly_connected_deps = []\n",
    "# Less tightly connected departments list.\n",
    "less_tightly_connected_deps = []\n",
    "# Compute the reciprocity and clustering coefficients within each department.\n",
    "for department, size in large_departments.items():\n",
    "    # Create a subgraph for the department.\n",
    "    dep_subgraph = create_subgraph(department, departments, eg)\n",
    "    # Calculate the average reciprocity and clustering coefficient for all nodes in this subgraph.\n",
    "    this_dep_clustering = nx.average_clustering(dep_subgraph)\n",
    "    this_reciprocity = computing_reciprocity(dep_subgraph)\n",
    "    # Add results to the list.\n",
    "    large_dep_mean_clustering.append(this_dep_clustering)\n",
    "    large_dep_mean_reciprocity.append(this_reciprocity)\n",
    "    if this_dep_clustering > total_clustering and this_reciprocity > total_mean_reciprocity:\n",
    "        more_tightly_connected_deps.append(department)\n",
    "    else: less_tightly_connected_deps.append(department)\n",
    "\n",
    "# Calculate the average for all large departments.\n",
    "mean_large_dep_clustering = np.mean(large_dep_mean_clustering)\n",
    "mean_large_dep_reciprocity = np.mean(large_dep_mean_reciprocity)\n",
    "# Compare to determine if there is greater connectivity within the department.\n",
    "print(f\"Average clustering coefficients of large departments: {mean_large_dep_clustering:.2f}\")\n",
    "print(f\"Average reciprocity of large departments: {mean_large_dep_reciprocity:.2f}\")\n",
    "print(f\"Average clustering coefficient of the totall graphs: {total_clustering:.2f}\")\n",
    "print(f\"Average reciprocity of the total graph: {total_mean_reciprocity:.2f}\")\n",
    "print(f\"More tightly connected departments: {more_tightly_connected_deps}\")\n",
    "print(f\"Less tightly connected departments: {less_tightly_connected_deps}\")"
   ]
  },
  {
   "cell_type": "raw",
   "id": "f8f3b14e-67a3-411b-b5c2-04a6cbfce9ce",
   "metadata": {
    "vscode": {
     "languageId": "raw"
    }
   },
   "source": [
    "ANSWER: \n",
    "Not. Based on the results, some of the large departments with 15 or more members are indeed more tightly connected internally than the individuals on the overall network, evidenced by higher clustering coefficients (0.51 vs. 0.37). However, in terms of average reciprocity, the overall network (0.52) is slightly higher than these large departments (0.51). And through listing all the tighter departments, and the looser departments. It can be seen that only some of the large departments reflect a more tightly connected pattern than the overall network."
   ]
  }
 ],
 "metadata": {
  "kernelspec": {
   "display_name": "Python 3 (ipykernel)",
   "language": "python",
   "name": "python3"
  },
  "language_info": {
   "codemirror_mode": {
    "name": "ipython",
    "version": 3
   },
   "file_extension": ".py",
   "mimetype": "text/x-python",
   "name": "python",
   "nbconvert_exporter": "python",
   "pygments_lexer": "ipython3",
   "version": "3.11.5"
  }
 },
 "nbformat": 4,
 "nbformat_minor": 5
}
