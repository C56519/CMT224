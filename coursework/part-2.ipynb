{
 "cells": [
  {
   "cell_type": "markdown",
   "id": "ff2d0703-1cf5-442a-9730-5b054a09ec32",
   "metadata": {},
   "source": [
    "# Part 2: Email Behaviour Data Analysis"
   ]
  },
  {
   "cell_type": "markdown",
   "id": "94d3b813-a930-4d20-949d-557a59bd8724",
   "metadata": {
    "tags": []
   },
   "source": [
    "---"
   ]
  },
  {
   "cell_type": "markdown",
   "id": "d9389eca-4427-450f-b86d-2954730560af",
   "metadata": {
    "tags": []
   },
   "source": [
    "### Install Python packages (pip only)"
   ]
  },
  {
   "cell_type": "code",
   "execution_count": null,
   "id": "561e7d2b-d506-4b97-9e0a-4643d5ef91d0",
   "metadata": {},
   "outputs": [],
   "source": [
    "#e.g., %pip install some-package\n",
    "%pip install networkx\n",
    "%pip install matplotlib\n",
    "%pip install numpy\n",
    "%pip install json"
   ]
  },
  {
   "cell_type": "markdown",
   "id": "661a426f-00b3-4eab-b8ff-3897a5bf2e87",
   "metadata": {},
   "source": [
    "### Import Python packages"
   ]
  },
  {
   "cell_type": "code",
   "execution_count": null,
   "id": "9fde3e57-85f4-46f2-9999-96434563cc69",
   "metadata": {},
   "outputs": [],
   "source": [
    "#e.g., import some-package\n",
    "import networkx as nx\n",
    "import matplotlib.pyplot as plt\n",
    "import numpy as np\n",
    "import json"
   ]
  },
  {
   "cell_type": "markdown",
   "id": "31f7e832-7044-47ce-84b0-610a465e6b1d",
   "metadata": {},
   "source": [
    "---"
   ]
  },
  {
   "cell_type": "markdown",
   "id": "6be69931-f66d-490c-8f4f-3d8016c72c13",
   "metadata": {
    "tags": []
   },
   "source": [
    "### Task 1 of 1 \n",
    "\n",
    "Examine the file \"emails_cmt224.edgelist\" which represents email behaviour at an organisation. Each line contains two numbers, 𝑢 and 𝑣, separated by a blank space. Consider each number as an identifier for an individual in an organisation, with the space on each line representing that the individual, 𝑢, sent at least one email to the another individual, 𝑣, at some point. Model the data using an appropriate, directed network representation and answer the following questions:"
   ]
  },
  {
   "cell_type": "markdown",
   "id": "e2fa5455-293e-4b4b-b084-71d0cb31d40b",
   "metadata": {},
   "source": [
    "##### Q1. Do the majority of individuals have a higher or lower ratio of mutual connections than average in the network?"
   ]
  },
  {
   "cell_type": "code",
   "execution_count": null,
   "id": "84bbaf04-0d29-457c-9c5c-83da2ce1a57a",
   "metadata": {},
   "outputs": [],
   "source": [
    "#CODE:\n",
    "file_path = \"emails_cmt224.edgelist\"\n",
    "eg = nx.read_edgelist(file_path, create_using=nx.DiGraph())\n",
    "# 计算每个节点的互惠性\n",
    "reciprocity_per_node = nx.reciprocity(eg, eg.nodes())\n",
    "print(\"Individual Reciprocity for 5 example nodes in G (id, reciprocity):\")\n",
    "print(list(reciprocity_per_node.items())[:5])\n",
    "# 将上述字典的所有值(互惠性)提出来生成一个列表\n",
    "reciprocity_values = list(reciprocity_per_node.values())\n",
    "# 计算所有节点的平均互惠性\n",
    "mean_reciprocity = np.mean(reciprocity_values)\n",
    "print(f\"Mean reciprocity: {mean_reciprocity:.2f}\")\n",
    "# 将所有节点的互惠性与平均值比较，统计小于平均值的个数、大于平均值的个数\n",
    "higher_count = 0\n",
    "lower_count = 0\n",
    "total_num = eg.number_of_nodes()\n",
    "for node in reciprocity_values:\n",
    "    if node > mean_reciprocity: higher_count += 1\n",
    "    elif node < mean_reciprocity: lower_count += 1\n",
    "# 计算两者的比率\n",
    "higher_rate = higher_count / total_num\n",
    "lower_rate = lower_count / total_num\n",
    "print(f\"The number of higher one: {higher_count}, the rate is: {higher_rate:.2f}\")\n",
    "print(f\"The number of lower one: {lower_count}, the rate is: {lower_rate:.2f}\")"
   ]
  },
  {
   "cell_type": "raw",
   "id": "555d8e2e-b511-44d9-9e66-abbcfd72e813",
   "metadata": {
    "vscode": {
     "languageId": "raw"
    }
   },
   "source": [
    "ANSWER: \n",
    "In this network, the average mutual connection ratio is 0.52, \n",
    "with 462 individuals with above average mutual connection ratios \n",
    "and 244 individuals with below average ratios.\n",
    "So, the majority of individuals in this network (about 65%) are higher than the average mutual connection ratio."
   ]
  },
  {
   "cell_type": "markdown",
   "id": "a88f1282-c982-44a1-943b-a1e58d6cfd5f",
   "metadata": {
    "tags": []
   },
   "source": [
    "##### Q2. Using the largest, strongly connected component (where at least one path exists between each individual and all others). Could the connectivity of the component be suggested to be reflective of a small world phenomenon in comparison to the typical connectivity of 10 comparative random networks?"
   ]
  },
  {
   "cell_type": "code",
   "execution_count": null,
   "id": "775143b3-138d-4851-b14f-8119c2b18a9d",
   "metadata": {
    "tags": []
   },
   "outputs": [],
   "source": [
    "#CODE:\n",
    "# 找最大强连通组件\n",
    "strongly_connected_components = nx.strongly_connected_components(eg)\n",
    "# 按照len也就是节点数来排列\n",
    "strongly_connected_components_sorted_by_number_of_nodes = sorted(\n",
    "    strongly_connected_components, \n",
    "    key=len,\n",
    "    reverse=True # 反顺序，就是从大到小排列\n",
    ")\n",
    "# 取最多节点的强连通组件\n",
    "list_of_nodes_in_largest_strongly_connected_component = strongly_connected_components_sorted_by_number_of_nodes[0]\n",
    "# 利用最大的强连通组件创建子图\n",
    "LSCC = eg.subgraph(list_of_nodes_in_largest_strongly_connected_component).copy()\n",
    "# 对比子图和整个图的信息\n",
    "# 子图和全部图的节点数\n",
    "print(f\"Number of nodes in eg: {eg.number_of_nodes()}\")\n",
    "print(f\"Number of nodes in the largest strongly connected component of eg: {LSCC.number_of_nodes()}\")\n",
    "# 子图和全部图的边数\n",
    "print(f\"Number of edges in eg: {eg.number_of_edges()}\")\n",
    "print(f\"Number of edges in the largest strongly connected component of eg: {LSCC.number_of_edges()}\")\n",
    "# 计算子图的 最短路径长度 和 平均聚类系数\n",
    "eg_sub_average_shortest_path_length = nx.average_shortest_path_length(LSCC)\n",
    "eg_sub_average_clustering = nx.average_clustering(LSCC)\n",
    "print(f\"Average shortest path length in eg's largest strongly connected component: {eg_sub_average_shortest_path_length:.2f}\")\n",
    "print(f\"Average clustering coefficient in eg's largest strongly connected component: {eg_sub_average_clustering:.2f}\")\n",
    "\n",
    "# 判断该子图是否支持“小世界”属性\n",
    "# 生成10个随机网络，规格与子图节点数、边数相同\n",
    "random_average_shortest_path_length = []\n",
    "random_average_clustering = []\n",
    "for i in range(10):\n",
    "    R = nx.gnm_random_graph(LSCC.number_of_nodes(), LSCC.number_of_edges(), directed=True)\n",
    "    # 在随机网络中，生成强连通组件列表并按照节点数量排序，且取大的那个\n",
    "    R_LSCC_nodes = sorted(nx.strongly_connected_components(R), key=len, reverse=True)[0]\n",
    "    # 在具有最多节点数的强连通组件下，生成子网\n",
    "    R_LSCC = R.subgraph(R_LSCC_nodes).copy()\n",
    "    # 将子图的 最短路径长度 和 平均聚类系数 储存到列表\n",
    "    random_average_shortest_path_length.append(nx.average_shortest_path_length(R_LSCC))\n",
    "    random_average_clustering.append(nx.average_clustering(R_LSCC))\n",
    "# 将随机网络结果与实际子图的结果对比\n",
    "mean_random_average_shortest_path_length = np.mean(random_average_shortest_path_length)\n",
    "mean_random_average_clustering = np.mean(random_average_clustering)\n",
    "print(f\"The mean of average shortest path length in 10 random world: {mean_random_average_shortest_path_length:.2f}\")\n",
    "print(f\"The mean of average clustering in 10 random world: {mean_random_average_clustering:.2f}\")"
   ]
  },
  {
   "cell_type": "raw",
   "id": "1aac5f8e-2fa2-485c-b163-621f73a91a58",
   "metadata": {
    "vscode": {
     "languageId": "raw"
    }
   },
   "source": [
    "ANSWER: \n",
    "First, the clustering coefficient of LSCC (0.39) is higher than the average clustering coefficient of the 10 random networks (0.04).\n",
    "This shows that nodes in LSCC are more tend to form tight clusters.\n",
    "Then, the average shortest path length of LSCC (2.56) is slightly larger than the average of 10 random networks (2.32),\n",
    "and this difference is not significant.\n",
    "So, the connectivity of this maximum strongly connected component can be considered to reflect the small world phenomenon."
   ]
  },
  {
   "cell_type": "markdown",
   "id": "a1ea162f-553b-402d-b437-99b95cc9821a",
   "metadata": {},
   "source": [
    "##### Q3. Are occurrences of induced, connected subgraphs of 3 individuals (triads) with only mutual connections more abundant in the largest, strongly connected component than those with a mixture of asymmetric and mutual connections? What does this suggest about how mutual connections are distributed in the component?"
   ]
  },
  {
   "cell_type": "code",
   "execution_count": null,
   "id": "f93ce721-0797-4803-b06b-d3e0a0a04027",
   "metadata": {},
   "outputs": [],
   "source": [
    "#CODE:\n",
    "def calculate_normalised_connected_triadic_census(H):\n",
    "    # 找出所有三元组，返回一个字典，键三元组的类型标识符如\"300\"，值为该类型三元组出现次数\n",
    "    tc = nx.triadic_census(H)\n",
    "    # 删除非连通三元组数据\n",
    "    del tc[\"003\"]\n",
    "    del tc[\"012\"]\n",
    "    del tc[\"102\"]\n",
    "    # 规范化数据，使其和为1，为了看出比例\n",
    "    factor = 1.0 / sum(tc.values())\n",
    "    for k in tc:\n",
    "        tc[k] = round(tc[k] * factor, 2)\n",
    "    return tc\n",
    "\n",
    "def triads_compared(tc):\n",
    "    # 计算只包含互惠连接的三元组数量（\"300\"）\n",
    "    only_mutual = tc.get(\"300\")\n",
    "    # 计算包含混合连接的三元组数量（非\"300\"，但也不是非连通的）\n",
    "    mixture = sum(value for key, value in tc.items() if key != \"300\")\n",
    "    print(f\"The rate of only mutual: {only_mutual:2}\")\n",
    "    print(f\"The rate of those with a mixture of asymmetric and mutual connections: {round(mixture, 2)}\")\n",
    "\n",
    "# 调用函数，计算LSCC(子图)的三元组普查并规范化\n",
    "triadic_census = calculate_normalised_connected_triadic_census(LSCC)\n",
    "# 输出三元组普查结果，特别注意\"300\"类型\n",
    "print(triadic_census)\n",
    "# 调用函数，比较结果\n",
    "triads_compared(triadic_census)"
   ]
  },
  {
   "cell_type": "raw",
   "id": "660fe970-1267-4d50-b34e-392fa6d14b6a",
   "metadata": {
    "vscode": {
     "languageId": "raw"
    }
   },
   "source": [
    "ANSWER: \n",
    "1. 只有互惠连接的三元组（比例为0.03）在最大强连通分量中不比包含混合连接的三元组（比例为0.97）更为常见。\n",
    "2. 这个结果表明，在最大强连通分量中，互惠连接不是主导的社交模式。\n",
    "大多数三元组包含至少一个非互惠连接，这可能指示该网络分量中存在一定程度的信息或权力不对等，也就是在网络中，某些节点具有更高的信息控制权或更中心的社交地位。"
   ]
  },
  {
   "cell_type": "markdown",
   "id": "00cddf41-8d3e-4177-8aba-c7a322a8ff58",
   "metadata": {},
   "source": [
    "---\n",
    "### Task 2 of 2\n",
    "\n",
    "Examine the JSON file \"emails_cmt224_departments.json\" (departments file). Keys in the departments file represent individuals using the same ids as in the \"emails_cmt224.edgelist\" file in Part 2, Task 1 and the values represent a department id that the individual can be attributed to. Using the contents of the departments file in combination with the network in Part 2, Task 1, answer the following questions:"
   ]
  },
  {
   "cell_type": "markdown",
   "id": "754c1e34-252d-4786-9b57-0dfe9e76ec5c",
   "metadata": {},
   "source": [
    "##### Q1. Using the connections that individuals have in the network, are they more likely to mix with others in their department or those with a similar number of outward connections?"
   ]
  },
  {
   "cell_type": "code",
   "execution_count": null,
   "id": "52119076-b214-41ed-a0b0-11a3d6e0e2a7",
   "metadata": {},
   "outputs": [],
   "source": [
    "#CODE:\n",
    "# 加载数据，是个字典\n",
    "with open(\"emails_cmt224_departments.json\") as json_file:\n",
    "    departments = json.load(json_file)\n",
    "print(departments)\n",
    "# 数据准备\n",
    "department_connections = 0\n",
    "similar_connections = 0\n",
    "\n",
    "# 计算连接数(度)\n",
    "degrees = dict(eg.degree())\n",
    "# 遍历每个节点\n",
    "for node in eg.nodes():\n",
    "    this_department = departments[node]\n",
    "    this_degee = degrees[node]\n",
    "    # 分析其连接的节点是属于同部门还是具有相似连接数\n",
    "    for other in eg.neighbors(node):\n",
    "        if departments[other] == this_department: department_connections += 1\n",
    "        if degrees[other] == this_degee: similar_connections += 1\n",
    "print(f\"与同一部门的连接数: {department_connections}\")\n",
    "print(f\"与连接数相似的人的连接数: {similar_connections}\")"
   ]
  },
  {
   "cell_type": "raw",
   "id": "97f2b5cb-9d52-4787-8e8b-ef9aa29d1c8e",
   "metadata": {
    "vscode": {
     "languageId": "raw"
    }
   },
   "source": [
    "ANSWER: \n",
    "与同一部门的连接数是4471，与连接数相似的人的连接数是80。\n",
    "所以个体在网络中显然更倾向于与同一部门的人交流，而不是与连接数相似的人交流。"
   ]
  },
  {
   "cell_type": "markdown",
   "id": "3a83c73f-b498-49c4-abfb-46b52e34427b",
   "metadata": {
    "tags": []
   },
   "source": [
    "##### Q2. Are all departments with 15 or more members more tightly connected amongst themselves in comparison to all individuals across the overall network irrespective of their department?  Where in this context, 'more tightly connected' is defined as having more mutual AND clustered connections. In addition to answering the overall question as yes or no, provide a list of departments this is true for (if any) and not true for (if any)."
   ]
  },
  {
   "cell_type": "code",
   "execution_count": null,
   "id": "70af8529-4fce-4910-a4b0-449862f1b96a",
   "metadata": {},
   "outputs": [],
   "source": [
    "#CODE:\n",
    "# 函数：计算该图的互惠连接性\n",
    "def computing_reciprocity(G):\n",
    "    reciprocity_per_node = nx.reciprocity(G, G.nodes())\n",
    "    reciprocity_values = []\n",
    "    for value in reciprocity_per_node.values():\n",
    "        if value is not None: reciprocity_values.append(float(value))\n",
    "        else: reciprocity_values.append(0)\n",
    "    mean_reciprocity = np.mean(reciprocity_values)\n",
    "    return mean_reciprocity\n",
    "\n",
    "# 函数：创建子图\n",
    "def create_subgraph(dep, dep_dict, G):\n",
    "    # 从部门字典中选择属于该部门的所有成员\n",
    "    target_member_list = [member for member, m_dep in dep_dict.items() if m_dep == dep]\n",
    "    # 从图G中选择这些成员的节点，创建子图\n",
    "    subgraph = G.subgraph(target_member_list).copy()\n",
    "    return subgraph\n",
    "\n",
    "# 找出有大于或等于15个成员的所有部门，创建符合条件的部门列表，并创建不符合条件的部门列表\n",
    "department_sizes = {}\n",
    "# 计算每个部分的成员数量\n",
    "for member, department in departments.items():\n",
    "    if department not in department_sizes:\n",
    "        department_sizes[department] = 0\n",
    "    department_sizes[department] += 1\n",
    "# 分割大部门、小部门\n",
    "large_departments = {}\n",
    "small_departments = {}\n",
    "for dep, counts in department_sizes.items():\n",
    "    if counts >= 15: large_departments[dep] = counts\n",
    "    else: small_departments[dep] = counts\n",
    "    \n",
    "# 初始化所有大部门的聚类系数和平均互惠连接性\n",
    "large_dep_mean_clustering = []\n",
    "large_dep_mean_reciprocity = []\n",
    "# 计算每个部门内部的互惠连接性和集群系数\n",
    "for department, size in large_departments.items():\n",
    "    # 创建该部门子图\n",
    "    dep_subgraph = create_subgraph(department, departments, eg)\n",
    "    # 计算该子图所有节点的平均互惠连接性和聚类系数\n",
    "    this_dep_clustering = nx.average_clustering(dep_subgraph)\n",
    "    this_reciprocity = computing_reciprocity(dep_subgraph)\n",
    "    # 将结果添加到列表\n",
    "    large_dep_mean_clustering.append(this_dep_clustering)\n",
    "    large_dep_mean_reciprocity.append(this_reciprocity)\n",
    "\n",
    "# 计算所有大部门的平均值\n",
    "mean_large_dep_clustering = np.mean(large_dep_mean_clustering)\n",
    "mean_large_dep_reciprocity = np.mean(large_dep_mean_reciprocity)\n",
    "# 计算网络整体的互惠连接性和集群系数\n",
    "total_clustering = nx.average_clustering(eg)\n",
    "total_mean_reciprocity = computing_reciprocity(eg)\n",
    "# 比较，判断是否部门内部更紧密连接\n",
    "print(f\"大部门的平均聚类系数: {mean_large_dep_clustering:.2f}\")\n",
    "print(f\"大部门的平均互惠链接性: {mean_large_dep_reciprocity:.2f}\")\n",
    "print(f\"全部图的平均聚类系数: {total_clustering:.2f}\")\n",
    "print(f\"全部图的平均互惠链接性: {total_mean_reciprocity:.2f}\")"
   ]
  },
  {
   "cell_type": "raw",
   "id": "f8f3b14e-67a3-411b-b5c2-04a6cbfce9ce",
   "metadata": {
    "vscode": {
     "languageId": "raw"
    }
   },
   "source": [
    "ANSWER: \n",
    "分析结果，可以看出，大部门的平均聚类系数 (0.51) 高于整体网络的平均聚类系数 (0.37)，这说明大部门具有更紧密的连接。\n",
    "此外大部门的平均互惠链接性 (0.51) 略低于整体网络的平均互惠链接性 (0.52)，但是差距很小。\n",
    "这说明不是所有拥有15名或以上成员的部门都比整个网络具有更紧密连接。 "
   ]
  }
 ],
 "metadata": {
  "kernelspec": {
   "display_name": "Python 3 (ipykernel)",
   "language": "python",
   "name": "python3"
  },
  "language_info": {
   "codemirror_mode": {
    "name": "ipython",
    "version": 3
   },
   "file_extension": ".py",
   "mimetype": "text/x-python",
   "name": "python",
   "nbconvert_exporter": "python",
   "pygments_lexer": "ipython3",
   "version": "3.11.5"
  }
 },
 "nbformat": 4,
 "nbformat_minor": 5
}
