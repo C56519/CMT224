{
 "cells": [
  {
   "cell_type": "markdown",
   "id": "ff2d0703-1cf5-442a-9730-5b054a09ec32",
   "metadata": {},
   "source": [
    "# Part 2: Email Behaviour Data Analysis"
   ]
  },
  {
   "cell_type": "markdown",
   "id": "94d3b813-a930-4d20-949d-557a59bd8724",
   "metadata": {
    "tags": []
   },
   "source": [
    "---"
   ]
  },
  {
   "cell_type": "markdown",
   "id": "d9389eca-4427-450f-b86d-2954730560af",
   "metadata": {
    "tags": []
   },
   "source": [
    "### Install Python packages (pip only)"
   ]
  },
  {
   "cell_type": "code",
   "execution_count": 30,
   "id": "561e7d2b-d506-4b97-9e0a-4643d5ef91d0",
   "metadata": {},
   "outputs": [
    {
     "name": "stdout",
     "output_type": "stream",
     "text": [
      "Requirement already satisfied: networkx in d:\\program files (x86)\\python\\python311\\lib\\site-packages (3.3)\n",
      "Note: you may need to restart the kernel to use updated packages.\n",
      "Requirement already satisfied: matplotlib in d:\\program files (x86)\\python\\python311\\lib\\site-packages (3.8.3)\n",
      "Requirement already satisfied: contourpy>=1.0.1 in d:\\program files (x86)\\python\\python311\\lib\\site-packages (from matplotlib) (1.2.0)\n",
      "Requirement already satisfied: cycler>=0.10 in d:\\program files (x86)\\python\\python311\\lib\\site-packages (from matplotlib) (0.12.1)\n",
      "Requirement already satisfied: fonttools>=4.22.0 in d:\\program files (x86)\\python\\python311\\lib\\site-packages (from matplotlib) (4.50.0)\n",
      "Requirement already satisfied: kiwisolver>=1.3.1 in d:\\program files (x86)\\python\\python311\\lib\\site-packages (from matplotlib) (1.4.5)\n",
      "Requirement already satisfied: numpy<2,>=1.21 in d:\\program files (x86)\\python\\python311\\lib\\site-packages (from matplotlib) (1.26.4)\n",
      "Requirement already satisfied: packaging>=20.0 in d:\\program files (x86)\\python\\python311\\lib\\site-packages (from matplotlib) (23.2)\n",
      "Requirement already satisfied: pillow>=8 in d:\\program files (x86)\\python\\python311\\lib\\site-packages (from matplotlib) (10.2.0)\n",
      "Requirement already satisfied: pyparsing>=2.3.1 in d:\\program files (x86)\\python\\python311\\lib\\site-packages (from matplotlib) (3.1.2)\n",
      "Requirement already satisfied: python-dateutil>=2.7 in d:\\program files (x86)\\python\\python311\\lib\\site-packages (from matplotlib) (2.9.0.post0)\n",
      "Requirement already satisfied: six>=1.5 in d:\\program files (x86)\\python\\python311\\lib\\site-packages (from python-dateutil>=2.7->matplotlib) (1.16.0)\n",
      "Note: you may need to restart the kernel to use updated packages.\n",
      "Requirement already satisfied: numpy in d:\\program files (x86)\\python\\python311\\lib\\site-packages (1.26.4)\n",
      "Note: you may need to restart the kernel to use updated packages.\n",
      "Note: you may need to restart the kernel to use updated packages.\n"
     ]
    },
    {
     "name": "stderr",
     "output_type": "stream",
     "text": [
      "ERROR: Could not find a version that satisfies the requirement json (from versions: none)\n",
      "ERROR: No matching distribution found for json\n"
     ]
    }
   ],
   "source": [
    "#e.g., %pip install some-package\n",
    "%pip install networkx\n",
    "%pip install matplotlib\n",
    "%pip install numpy\n",
    "%pip install json"
   ]
  },
  {
   "cell_type": "markdown",
   "id": "661a426f-00b3-4eab-b8ff-3897a5bf2e87",
   "metadata": {},
   "source": [
    "### Import Python packages"
   ]
  },
  {
   "cell_type": "code",
   "execution_count": 31,
   "id": "9fde3e57-85f4-46f2-9999-96434563cc69",
   "metadata": {},
   "outputs": [],
   "source": [
    "#e.g., import some-package\n",
    "import networkx as nx\n",
    "import matplotlib.pyplot as plt\n",
    "import numpy as np\n",
    "import json"
   ]
  },
  {
   "cell_type": "markdown",
   "id": "31f7e832-7044-47ce-84b0-610a465e6b1d",
   "metadata": {},
   "source": [
    "---"
   ]
  },
  {
   "cell_type": "markdown",
   "id": "6be69931-f66d-490c-8f4f-3d8016c72c13",
   "metadata": {
    "tags": []
   },
   "source": [
    "### Task 1 of 1 \n",
    "\n",
    "Examine the file \"emails_cmt224.edgelist\" which represents email behaviour at an organisation. Each line contains two numbers, 𝑢 and 𝑣, separated by a blank space. Consider each number as an identifier for an individual in an organisation, with the space on each line representing that the individual, 𝑢, sent at least one email to the another individual, 𝑣, at some point. Model the data using an appropriate, directed network representation and answer the following questions:"
   ]
  },
  {
   "cell_type": "markdown",
   "id": "e2fa5455-293e-4b4b-b084-71d0cb31d40b",
   "metadata": {},
   "source": [
    "##### Q1. Do the majority of individuals have a higher or lower ratio of mutual connections than average in the network?"
   ]
  },
  {
   "cell_type": "code",
   "execution_count": 32,
   "id": "84bbaf04-0d29-457c-9c5c-83da2ce1a57a",
   "metadata": {},
   "outputs": [
    {
     "name": "stdout",
     "output_type": "stream",
     "text": [
      "Individual Reciprocity for 5 example nodes in G (id, reciprocity):\n",
      "[('316', 0.5217391304347826), ('1', 0.0), ('379', 0.7368421052631579), ('221', 0.676056338028169), ('222', 0.6052631578947368)]\n",
      "Mean reciprocity: 0.52\n",
      "The number of higher one: 462, the rate is: 0.65\n",
      "The number of lower one: 244, the rate is: 0.35\n"
     ]
    }
   ],
   "source": [
    "#CODE:\n",
    "file_path = \"emails_cmt224.edgelist\"\n",
    "eg = nx.read_edgelist(file_path, create_using=nx.DiGraph())\n",
    "# 计算每个节点的互惠性\n",
    "reciprocity_per_node = nx.reciprocity(eg, eg.nodes())\n",
    "print(\"Individual Reciprocity for 5 example nodes in G (id, reciprocity):\")\n",
    "print(list(reciprocity_per_node.items())[:5])\n",
    "# 将上述字典的所有值(互惠性)提出来生成一个列表\n",
    "reciprocity_values = list(reciprocity_per_node.values())\n",
    "# 计算所有节点的平均互惠性\n",
    "mean_reciprocity = np.mean(reciprocity_values)\n",
    "print(f\"Mean reciprocity: {mean_reciprocity:.2f}\")\n",
    "# 将所有节点的互惠性与平均值比较，统计小于平均值的个数、大于平均值的个数\n",
    "higher_count = 0\n",
    "lower_count = 0\n",
    "total_num = eg.number_of_nodes()\n",
    "for node in reciprocity_values:\n",
    "    if node > mean_reciprocity: higher_count += 1\n",
    "    elif node < mean_reciprocity: lower_count += 1\n",
    "# 计算两者的比率\n",
    "higher_rate = higher_count / total_num\n",
    "lower_rate = lower_count / total_num\n",
    "print(f\"The number of higher one: {higher_count}, the rate is: {higher_rate:.2f}\")\n",
    "print(f\"The number of lower one: {lower_count}, the rate is: {lower_rate:.2f}\")"
   ]
  },
  {
   "cell_type": "raw",
   "id": "555d8e2e-b511-44d9-9e66-abbcfd72e813",
   "metadata": {
    "vscode": {
     "languageId": "raw"
    }
   },
   "source": [
    "ANSWER: \n",
    "In this network, the average mutual connection ratio is 0.52, ？？？？？？\n",
    "with 462 individuals with above average mutual connection ratios \n",
    "and 244 individuals with below average ratios.\n",
    "So, the majority of individuals in this network (about 65%) are higher than the average mutual connection ratio."
   ]
  },
  {
   "cell_type": "markdown",
   "id": "a88f1282-c982-44a1-943b-a1e58d6cfd5f",
   "metadata": {
    "tags": []
   },
   "source": [
    "##### Q2. Using the largest, strongly connected component (where at least one path exists between each individual and all others). Could the connectivity of the component be suggested to be reflective of a small world phenomenon in comparison to the typical connectivity of 10 comparative random networks?"
   ]
  },
  {
   "cell_type": "code",
   "execution_count": 33,
   "id": "775143b3-138d-4851-b14f-8119c2b18a9d",
   "metadata": {
    "tags": []
   },
   "outputs": [
    {
     "name": "stdout",
     "output_type": "stream",
     "text": [
      "Number of nodes in eg: 706\n",
      "Number of nodes in the largest strongly connected component of eg: 564\n",
      "Number of edges in eg: 13683\n",
      "Number of edges in the largest strongly connected component of eg: 13149\n",
      "Average shortest path length in eg's largest strongly connected component: 2.56\n",
      "Average clustering coefficient in eg's largest strongly connected component: 0.39\n",
      "The mean of average shortest path length in 10 random world: 2.32\n",
      "The mean of average clustering in 10 random world: 0.04\n"
     ]
    }
   ],
   "source": [
    "#CODE:\n",
    "# 找最大强连通组件\n",
    "strongly_connected_components = nx.strongly_connected_components(eg)\n",
    "# 按照len也就是节点数来排列\n",
    "strongly_connected_components_sorted_by_number_of_nodes = sorted(\n",
    "    strongly_connected_components, \n",
    "    key=len,\n",
    "    reverse=True # 反顺序，就是从大到小排列\n",
    ")\n",
    "# 取最多节点的强连通组件\n",
    "list_of_nodes_in_largest_strongly_connected_component = strongly_connected_components_sorted_by_number_of_nodes[0]\n",
    "# 利用最大的强连通组件创建子图\n",
    "LSCC = eg.subgraph(list_of_nodes_in_largest_strongly_connected_component).copy()\n",
    "# 对比子图和整个图的信息\n",
    "# 子图和全部图的节点数\n",
    "print(f\"Number of nodes in eg: {eg.number_of_nodes()}\")\n",
    "print(f\"Number of nodes in the largest strongly connected component of eg: {LSCC.number_of_nodes()}\")\n",
    "# 子图和全部图的边数\n",
    "print(f\"Number of edges in eg: {eg.number_of_edges()}\")\n",
    "print(f\"Number of edges in the largest strongly connected component of eg: {LSCC.number_of_edges()}\")\n",
    "# 计算子图的 最短路径长度 和 平均聚类系数\n",
    "eg_sub_average_shortest_path_length = nx.average_shortest_path_length(LSCC)\n",
    "eg_sub_average_clustering = nx.average_clustering(LSCC)\n",
    "print(f\"Average shortest path length in eg's largest strongly connected component: {eg_sub_average_shortest_path_length:.2f}\")\n",
    "print(f\"Average clustering coefficient in eg's largest strongly connected component: {eg_sub_average_clustering:.2f}\")\n",
    "\n",
    "# 判断该子图是否支持“小世界”属性\n",
    "# 生成10个随机网络，规格与子图节点数、边数相同\n",
    "random_average_shortest_path_length = []\n",
    "random_average_clustering = []\n",
    "for i in range(10):\n",
    "    R = nx.gnm_random_graph(LSCC.number_of_nodes(), LSCC.number_of_edges(), directed=True)\n",
    "    # 在随机网络中，生成强连通组件列表并按照节点数量排序，且取大的那个\n",
    "    R_LSCC_nodes = sorted(nx.strongly_connected_components(R), key=len, reverse=True)[0]\n",
    "    # 在具有最多节点数的强连通组件下，生成子网\n",
    "    R_LSCC = R.subgraph(R_LSCC_nodes).copy()\n",
    "    # 将子图的 最短路径长度 和 平均聚类系数 储存到列表\n",
    "    random_average_shortest_path_length.append(nx.average_shortest_path_length(R_LSCC))\n",
    "    random_average_clustering.append(nx.average_clustering(R_LSCC))\n",
    "# 将随机网络结果与实际子图的结果对比\n",
    "mean_random_average_shortest_path_length = np.mean(random_average_shortest_path_length)\n",
    "mean_random_average_clustering = np.mean(random_average_clustering)\n",
    "print(f\"The mean of average shortest path length in 10 random world: {mean_random_average_shortest_path_length:.2f}\")\n",
    "print(f\"The mean of average clustering in 10 random world: {mean_random_average_clustering:.2f}\")"
   ]
  },
  {
   "cell_type": "raw",
   "id": "1aac5f8e-2fa2-485c-b163-621f73a91a58",
   "metadata": {
    "vscode": {
     "languageId": "raw"
    }
   },
   "source": [
    "ANSWER: \n",
    "First, the clustering coefficient of LSCC (0.39) is higher than the average clustering coefficient of the 10 random networks (0.04).\n",
    "This shows that nodes in LSCC are more tend to form tight clusters.\n",
    "Then, the average shortest path length of LSCC (2.56) is slightly larger than the average of 10 random networks (2.32),\n",
    "and this difference is not significant.\n",
    "So, the connectivity of this maximum strongly connected component can be considered to reflect the small world phenomenon."
   ]
  },
  {
   "cell_type": "markdown",
   "id": "a1ea162f-553b-402d-b437-99b95cc9821a",
   "metadata": {},
   "source": [
    "##### Q3. Are occurrences of induced, connected subgraphs of 3 individuals (triads) with only mutual connections more abundant in the largest, strongly connected component than those with a mixture of asymmetric and mutual connections? What does this suggest about how mutual connections are distributed in the component?"
   ]
  },
  {
   "cell_type": "code",
   "execution_count": 34,
   "id": "f93ce721-0797-4803-b06b-d3e0a0a04027",
   "metadata": {},
   "outputs": [
    {
     "name": "stdout",
     "output_type": "stream",
     "text": [
      "{'021D': 31641, '021U': 15065, '021C': 25088, '111D': 62379, '111U': 96113, '030T': 2609, '030C': 292, '201': 107247, '120D': 3549, '120U': 4096, '120C': 3954, '210': 17333, '300': 12982}\n",
      "The rate of only mutual: 0.03\n",
      "The number of only mutual: 12982\n",
      "The rate of those with a mixture of asymmetric and mutual connections: 0.97\n",
      "The number of those with a mixture of asymmetric and mutual connections: 369366\n"
     ]
    }
   ],
   "source": [
    "#CODE:\n",
    "def calculate_normalised_connected_triadic_census(H):\n",
    "    # 找出所有三元组，返回一个字典，键三元组的类型标识符如\"300\"，值为该类型三元组出现次数\n",
    "    tc = nx.triadic_census(H)\n",
    "    tc_rate = {}\n",
    "    # 删除非连通三元组数据\n",
    "    del tc[\"003\"]\n",
    "    del tc[\"012\"]\n",
    "    del tc[\"102\"]\n",
    "    # 规范化数据，使其和为1，为了看出比例\n",
    "    factor = 1.0 / sum(tc.values())\n",
    "    for k in tc:\n",
    "        tc_rate[k] = round(tc[k] * factor, 2)\n",
    "    return tc, tc_rate\n",
    "\n",
    "def triads_compared(tc, tc_rate):\n",
    "    # 计算只包含互惠连接的三元组数量（\"300\"）\n",
    "    only_mutual_rate = tc_rate.get(\"300\")\n",
    "    only_mutual_num = tc.get(\"300\")\n",
    "    # 计算包含混合连接的三元组数量（非\"300\"，但也不是非连通的）\n",
    "    mixture_rate = sum(value for key, value in tc_rate.items() if key != \"300\")\n",
    "    mixture_num = sum(value for key, value in tc.items() if key != \"300\")\n",
    "    print(f\"The rate of only mutual: {only_mutual_rate:2}\")\n",
    "    print(f\"The number of only mutual: {only_mutual_num:2}\")\n",
    "    print(f\"The rate of those with a mixture of asymmetric and mutual connections: {round(mixture_rate, 2)}\")\n",
    "    print(f\"The number of those with a mixture of asymmetric and mutual connections: {round(mixture_num, 2)}\")\n",
    "\n",
    "# 调用函数，计算LSCC(子图)的三元组普查并规范化\n",
    "triadic_census, triadic_census_rate = calculate_normalised_connected_triadic_census(LSCC)\n",
    "# 输出三元组普查结果，特别注意\"300\"类型\n",
    "print(triadic_census)\n",
    "# 调用函数，比较结果\n",
    "triads_compared(triadic_census, triadic_census_rate)"
   ]
  },
  {
   "cell_type": "raw",
   "id": "660fe970-1267-4d50-b34e-392fa6d14b6a",
   "metadata": {
    "vscode": {
     "languageId": "raw"
    }
   },
   "source": [
    "ANSWER: \n",
    "12982 29729182\n",
    "1. 只有互惠连接的三元组（比例为0.03）在最大强连通分量中不比包含混合连接的三元组（比例为0.97）更为常见。？？？？？？\n",
    "2. 这个结果表明，在最大强连通分量中，互惠连接不是主导的社交模式。\n",
    "大多数三元组包含至少一个非互惠连接，这可能指示该网络分量中存在一定程度的信息或权力不对等，也就是在网络中，某些节点具有更高的信息控制权或更中心的社交地位。"
   ]
  },
  {
   "cell_type": "markdown",
   "id": "00cddf41-8d3e-4177-8aba-c7a322a8ff58",
   "metadata": {},
   "source": [
    "---\n",
    "### Task 2 of 2\n",
    "\n",
    "Examine the JSON file \"emails_cmt224_departments.json\" (departments file). Keys in the departments file represent individuals using the same ids as in the \"emails_cmt224.edgelist\" file in Part 2, Task 1 and the values represent a department id that the individual can be attributed to. Using the contents of the departments file in combination with the network in Part 2, Task 1, answer the following questions:"
   ]
  },
  {
   "cell_type": "markdown",
   "id": "754c1e34-252d-4786-9b57-0dfe9e76ec5c",
   "metadata": {},
   "source": [
    "##### Q1. Using the connections that individuals have in the network, are they more likely to mix with others in their department or those with a similar number of outward connections?"
   ]
  },
  {
   "cell_type": "code",
   "execution_count": 35,
   "id": "52119076-b214-41ed-a0b0-11a3d6e0e2a7",
   "metadata": {},
   "outputs": [
    {
     "name": "stdout",
     "output_type": "stream",
     "text": [
      "{'1': '1', '2': '21', '6': '25', '7': '14', '8': '14', '9': '14', '10': '9', '12': '14', '13': '26', '15': '17', '17': '1', '20': '9', '21': '9', '22': '9', '25': '11', '26': '11', '27': '11', '28': '11', '29': '11', '30': '11', '32': '11', '33': '11', '34': '11', '35': '11', '36': '11', '37': '11', '38': '11', '40': '11', '41': '5', '43': '14', '45': '17', '46': '17', '47': '10', '49': '36', '50': '37', '52': '7', '53': '4', '55': '22', '57': '21', '59': '21', '61': '7', '62': '36', '63': '21', '64': '25', '65': '4', '66': '8', '67': '15', '68': '15', '70': '37', '71': '37', '72': '9', '73': '1', '74': '1', '75': '10', '76': '10', '77': '3', '81': '15', '82': '36', '83': '36', '84': '37', '85': '1', '86': '36', '87': '34', '89': '20', '90': '8', '91': '15', '92': '9', '94': '5', '95': '4', '96': '20', '97': '16', '98': '16', '99': '16', '100': '16', '102': '38', '104': '7', '105': '34', '106': '38', '107': '36', '109': '27', '110': '8', '111': '8', '113': '10', '114': '10', '116': '13', '117': '6', '118': '26', '120': '1', '121': '36', '122': '0', '123': '13', '124': '16', '125': '16', '126': '22', '127': '6', '128': '5', '130': '0', '131': '28', '132': '28', '133': '4', '135': '13', '140': '17', '141': '14', '143': '8', '144': '40', '145': '35', '146': '15', '147': '23', '148': '0', '150': '7', '151': '10', '153': '27', '154': '35', '155': '35', '157': '0', '158': '19', '159': '19', '160': '36', '161': '14', '162': '37', '163': '24', '165': '13', '166': '36', '167': '4', '168': '4', '169': '13', '170': '13', '171': '10', '172': '4', '173': '38', '174': '32', '175': '32', '176': '4', '179': '0', '182': '7', '183': '4', '184': '15', '185': '16', '186': '40', '188': '15', '192': '21', '194': '21', '195': '21', '196': '5', '197': '4', '198': '4', '199': '4', '204': '5', '206': '4', '207': '4', '208': '22', '210': '19', '211': '22', '213': '14', '215': '1', '217': '37', '218': '1', '219': '1', '221': '1', '222': '1', '223': '1', '224': '1', '225': '1', '226': '1', '230': '23', '231': '0', '233': '19', '235': '19', '236': '19', '237': '19', '238': '19', '239': '19', '240': '19', '241': '19', '243': '19', '244': '19', '247': '14', '252': '20', '253': '31', '254': '40', '255': '6', '256': '4', '257': '0', '258': '8', '259': '9', '260': '9', '261': '10', '262': '0', '263': '10', '265': '14', '266': '14', '268': '39', '269': '17', '270': '4', '271': '28', '272': '17', '273': '17', '274': '17', '275': '4', '276': '4', '277': '0', '278': '0', '279': '23', '280': '4', '282': '36', '283': '36', '284': '0', '285': '22', '286': '21', '289': '0', '290': '4', '292': '4', '293': '14', '297': '1', '298': '15', '299': '15', '300': '38', '301': '26', '302': '20', '303': '20', '304': '20', '305': '21', '307': '1', '308': '1', '309': '1', '310': '1', '311': '1', '312': '1', '313': '1', '315': '1', '316': '1', '317': '1', '318': '10', '319': '19', '320': '7', '321': '7', '323': '16', '324': '14', '326': '9', '327': '9', '328': '8', '329': '8', '331': '39', '332': '14', '334': '17', '336': '13', '337': '13', '338': '13', '339': '13', '340': '2', '341': '1', '342': '0', '344': '0', '348': '0', '349': '0', '350': '0', '351': '0', '352': '0', '353': '16', '354': '16', '355': '27', '356': '8', '357': '8', '359': '14', '360': '14', '361': '10', '363': '35', '365': '14', '366': '36', '368': '7', '369': '20', '370': '10', '371': '16', '372': '36', '373': '36', '375': '8', '376': '7', '378': '7', '379': '7', '380': '7', '381': '7', '382': '7', '383': '7', '384': '7', '386': '7', '387': '7', '388': '7', '389': '7', '390': '7', '391': '7', '392': '7', '394': '7', '397': '7', '398': '7', '399': '4', '400': '9', '402': '0', '403': '4', '404': '16', '405': '38', '406': '14', '408': '21', '409': '26', '410': '27', '411': '28', '412': '21', '413': '4', '414': '1', '415': '1', '418': '15', '419': '4', '421': '14', '422': '35', '423': '10', '424': '34', '425': '4', '426': '4', '427': '12', '428': '17', '429': '17', '431': '37', '432': '37', '433': '37', '434': '34', '436': '13', '437': '13', '438': '13', '439': '13', '440': '4', '441': '14', '443': '10', '446': '17', '447': '17', '449': '1', '450': '4', '451': '14', '452': '14', '454': '27', '455': '22', '456': '21', '457': '4', '458': '4', '459': '1', '460': '34', '461': '17', '465': '23', '466': '14', '467': '15', '468': '1', '469': '22', '470': '12', '471': '31', '472': '6', '474': '15', '476': '15', '478': '8', '479': '1', '480': '15', '481': '22', '482': '2', '483': '3', '484': '4', '485': '10', '486': '4', '489': '25', '491': '6', '492': '40', '493': '4', '494': '36', '495': '23', '496': '14', '498': '14', '499': '14', '500': '14', '501': '14', '502': '14', '504': '14', '505': '14', '510': '14', '513': '35', '514': '8', '515': '4', '516': '1', '517': '1', '518': '35', '519': '23', '520': '21', '523': '4', '524': '9', '525': '14', '526': '4', '527': '10', '532': '21', '533': '35', '534': '4', '536': '15', '539': '3', '540': '15', '541': '23', '542': '4', '543': '4', '545': '11', '547': '10', '548': '6', '549': '15', '550': '15', '551': '15', '552': '22', '554': '2', '556': '4', '557': '3', '558': '14', '559': '27', '567': '4', '568': '4', '569': '14', '570': '14', '571': '21', '572': '4', '573': '14', '574': '4', '576': '4', '579': '17', '582': '15', '584': '4', '586': '21', '587': '21', '588': '11', '590': '11', '592': '17', '593': '5', '595': '15', '596': '23', '598': '2', '599': '19', '600': '4', '601': '36', '603': '1', '604': '22', '605': '1', '606': '21', '609': '13', '610': '6', '611': '4', '612': '37', '614': '24', '615': '35', '616': '6', '617': '17', '618': '16', '619': '6', '620': '4', '621': '0', '622': '21', '623': '4', '624': '26', '625': '21', '626': '4', '628': '7', '630': '20', '632': '7', '637': '19', '641': '23', '642': '6', '643': '37', '644': '25', '645': '1', '646': '22', '647': '6', '650': '1', '651': '26', '652': '8', '654': '37', '655': '4', '657': '17', '661': '14', '662': '16', '663': '15', '664': '4', '666': '14', '667': '15', '669': '23', '671': '29', '672': '14', '673': '23', '674': '14', '677': '26', '678': '15', '680': '0', '681': '0', '682': '0', '683': '22', '685': '21', '686': '6', '687': '16', '688': '4', '692': '0', '693': '36', '694': '4', '696': '1', '697': '1', '698': '22', '700': '14', '702': '4', '704': '10', '705': '4', '706': '4', '707': '14', '708': '16', '709': '16', '712': '0', '715': '15', '717': '24', '718': '21', '719': '7', '720': '14', '721': '11', '723': '9', '724': '13', '726': '31', '728': '22', '733': '9', '734': '1', '735': '17', '736': '27', '737': '28', '738': '22', '739': '14', '740': '20', '741': '7', '742': '23', '743': '1', '745': '6', '747': '15', '748': '23', '749': '4', '751': '5', '752': '36', '754': '14', '755': '21', '758': '41', '759': '31', '762': '21', '764': '1', '765': '14', '766': '2', '767': '18', '768': '16', '769': '27', '771': '38', '773': '38', '774': '21', '776': '5', '777': '9', '778': '15', '779': '15', '781': '0', '782': '6', '783': '23', '785': '11', '786': '23', '787': '34', '788': '24', '789': '4', '792': '24', '796': '17', '797': '1', '801': '4', '802': '4', '804': '14', '806': '20', '807': '28', '809': '22', '810': '26', '811': '3', '812': '32', '813': '4', '815': '21', '816': '13', '817': '4', '818': '15', '820': '5', '821': '24', '823': '14', '825': '9', '826': '21', '828': '38', '829': '4', '830': '14', '832': '21', '833': '14', '834': '6', '835': '4', '836': '4', '837': '6', '840': '4', '841': '7', '842': '16', '847': '10', '848': '3', '849': '21', '851': '0', '853': '7', '854': '17', '856': '14', '857': '0', '859': '32', '860': '13', '862': '2', '863': '21', '864': '28', '865': '21', '866': '22', '867': '22', '868': '7', '869': '7', '870': '33', '871': '0', '872': '1', '873': '15', '875': '31', '877': '15', '878': '11', '880': '21', '882': '21', '883': '13', '884': '21', '885': '9', '888': '32', '889': '38', '890': '9', '892': '38', '893': '14', '894': '9', '895': '10', '897': '10', '898': '22', '903': '0', '905': '1', '906': '23', '907': '0', '911': '15', '913': '14', '914': '13', '916': '1', '919': '10', '920': '23', '921': '21', '922': '14', '923': '9', '925': '10', '926': '19', '928': '21', '929': '17', '931': '19', '932': '36', '933': '17', '934': '35', '935': '16', '936': '4', '937': '16', '938': '4', '939': '6', '940': '4', '942': '6', '946': '23', '947': '7', '948': '6', '949': '22', '950': '36', '951': '14', '952': '15', '953': '11', '954': '35', '955': '5', '957': '14', '958': '15', '962': '9', '963': '19', '964': '11', '966': '29', '967': '14', '968': '15', '971': '32', '972': '15', '973': '14', '974': '5', '975': '9', '976': '10', '978': '13', '979': '23', '980': '12', '981': '10', '983': '10', '984': '35', '985': '7', '986': '22', '987': '22', '988': '22', '989': '8', '990': '21', '995': '6', '997': '11', '1000': '4', '1001': '21', '1004': '22'}\n",
      "与同一部门的连接数: 4471\n",
      "与连接数相似的人的连接数: 80\n"
     ]
    }
   ],
   "source": [
    "#CODE:\n",
    "# 加载数据，是个字典\n",
    "with open(\"emails_cmt224_departments.json\") as json_file:\n",
    "    departments = json.load(json_file)\n",
    "print(departments)\n",
    "# 数据准备\n",
    "department_connections = 0\n",
    "similar_connections = 0\n",
    "\n",
    "# 计算连接数(度)\n",
    "degrees = dict(eg.degree())\n",
    "# 遍历每个节点\n",
    "for node in eg.nodes():\n",
    "    this_department = departments[node]\n",
    "    this_degee = degrees[node]\n",
    "    # 分析其连接的节点是属于同部门还是具有相似连接数\n",
    "    for other in eg.neighbors(node):\n",
    "        if departments[other] == this_department: department_connections += 1\n",
    "        if degrees[other] == this_degee: similar_connections += 1\n",
    "print(f\"与同一部门的连接数: {department_connections}\")\n",
    "print(f\"与连接数相似的人的连接数: {similar_connections}\")"
   ]
  },
  {
   "cell_type": "raw",
   "id": "97f2b5cb-9d52-4787-8e8b-ef9aa29d1c8e",
   "metadata": {
    "vscode": {
     "languageId": "raw"
    }
   },
   "source": [
    "ANSWER: \n",
    "换成比率？？？？？？\n",
    "与同一部门的连接数是4471，与连接数相似的人的连接数是80。\n",
    "所以个体在网络中显然更倾向于与同一部门的人交流，而不是与连接数相似的人交流。"
   ]
  },
  {
   "cell_type": "markdown",
   "id": "3a83c73f-b498-49c4-abfb-46b52e34427b",
   "metadata": {
    "tags": []
   },
   "source": [
    "##### Q2. Are all departments with 15 or more members more tightly connected amongst themselves in comparison to all individuals across the overall network irrespective of their department?  Where in this context, 'more tightly connected' is defined as having more mutual AND clustered connections. In addition to answering the overall question as yes or no, provide a list of departments this is true for (if any) and not true for (if any)."
   ]
  },
  {
   "cell_type": "code",
   "execution_count": 36,
   "id": "70af8529-4fce-4910-a4b0-449862f1b96a",
   "metadata": {},
   "outputs": [
    {
     "name": "stdout",
     "output_type": "stream",
     "text": [
      "大部门的平均聚类系数: 0.51\n",
      "大部门的平均互惠链接性: 0.51\n",
      "全部图的平均聚类系数: 0.37\n",
      "全部图的平均互惠链接性: 0.52\n"
     ]
    }
   ],
   "source": [
    "#CODE:\n",
    "# 函数：计算该图的互惠连接性\n",
    "def computing_reciprocity(G):\n",
    "    reciprocity_per_node = nx.reciprocity(G, G.nodes())\n",
    "    reciprocity_values = []\n",
    "    for value in reciprocity_per_node.values():\n",
    "        if value is not None: reciprocity_values.append(float(value))\n",
    "        else: reciprocity_values.append(0)\n",
    "    mean_reciprocity = np.mean(reciprocity_values)\n",
    "    return mean_reciprocity\n",
    "\n",
    "# 函数：创建子图\n",
    "def create_subgraph(dep, dep_dict, G):\n",
    "    # 从部门字典中选择属于该部门的所有成员\n",
    "    target_member_list = [member for member, m_dep in dep_dict.items() if m_dep == dep]\n",
    "    # 从图G中选择这些成员的节点，创建子图\n",
    "    subgraph = G.subgraph(target_member_list).copy()\n",
    "    return subgraph\n",
    "\n",
    "# 找出有大于或等于15个成员的所有部门，创建符合条件的部门列表，并创建不符合条件的部门列表\n",
    "department_sizes = {}\n",
    "# 计算每个部分的成员数量\n",
    "for member, department in departments.items():\n",
    "    if department not in department_sizes:\n",
    "        department_sizes[department] = 0\n",
    "    department_sizes[department] += 1\n",
    "# 分割大部门、小部门\n",
    "large_departments = {}\n",
    "small_departments = {}\n",
    "for dep, counts in department_sizes.items():\n",
    "    if counts >= 15: large_departments[dep] = counts\n",
    "    else: small_departments[dep] = counts\n",
    "    \n",
    "# 初始化所有大部门的聚类系数和平均互惠连接性\n",
    "large_dep_mean_clustering = []\n",
    "large_dep_mean_reciprocity = []\n",
    "# 计算每个部门内部的互惠连接性和集群系数\n",
    "for department, size in large_departments.items():\n",
    "    # 创建该部门子图\n",
    "    dep_subgraph = create_subgraph(department, departments, eg)\n",
    "    # 计算该子图所有节点的平均互惠连接性和聚类系数\n",
    "    this_dep_clustering = nx.average_clustering(dep_subgraph)\n",
    "    this_reciprocity = computing_reciprocity(dep_subgraph)\n",
    "    # 将结果添加到列表\n",
    "    large_dep_mean_clustering.append(this_dep_clustering)\n",
    "    large_dep_mean_reciprocity.append(this_reciprocity)\n",
    "\n",
    "# 计算所有大部门的平均值\n",
    "mean_large_dep_clustering = np.mean(large_dep_mean_clustering)\n",
    "mean_large_dep_reciprocity = np.mean(large_dep_mean_reciprocity)\n",
    "# 计算网络整体的互惠连接性和集群系数\n",
    "total_clustering = nx.average_clustering(eg)\n",
    "total_mean_reciprocity = computing_reciprocity(eg)\n",
    "# 比较，判断是否部门内部更紧密连接\n",
    "print(f\"大部门的平均聚类系数: {mean_large_dep_clustering:.2f}\")\n",
    "print(f\"大部门的平均互惠链接性: {mean_large_dep_reciprocity:.2f}\")\n",
    "print(f\"全部图的平均聚类系数: {total_clustering:.2f}\")\n",
    "print(f\"全部图的平均互惠链接性: {total_mean_reciprocity:.2f}\")"
   ]
  },
  {
   "cell_type": "raw",
   "id": "f8f3b14e-67a3-411b-b5c2-04a6cbfce9ce",
   "metadata": {
    "vscode": {
     "languageId": "raw"
    }
   },
   "source": [
    "ANSWER: \n",
    "分析结果，可以看出，大部门的平均聚类系数 (0.51) 高于整体网络的平均聚类系数 (0.37)，这说明大部门具有更紧密的连接。\n",
    "此外大部门的平均互惠链接性 (0.51) 略低于整体网络的平均互惠链接性 (0.52)，但是差距很小。\n",
    "这说明不是所有拥有15名或以上成员的部门都比整个网络具有更紧密连接。 "
   ]
  }
 ],
 "metadata": {
  "kernelspec": {
   "display_name": "Python 3 (ipykernel)",
   "language": "python",
   "name": "python3"
  },
  "language_info": {
   "codemirror_mode": {
    "name": "ipython",
    "version": 3
   },
   "file_extension": ".py",
   "mimetype": "text/x-python",
   "name": "python",
   "nbconvert_exporter": "python",
   "pygments_lexer": "ipython3",
   "version": "3.11.5"
  }
 },
 "nbformat": 4,
 "nbformat_minor": 5
}
